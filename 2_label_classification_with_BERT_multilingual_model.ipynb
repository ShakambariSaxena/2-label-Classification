{
  "nbformat": 4,
  "nbformat_minor": 0,
  "metadata": {
    "colab": {
      "provenance": [],
      "gpuType": "T4",
      "authorship_tag": "ABX9TyMToypuYI1G9S9d5YWeRp31",
      "include_colab_link": true
    },
    "kernelspec": {
      "name": "python3",
      "display_name": "Python 3"
    },
    "language_info": {
      "name": "python"
    },
    "widgets": {
      "application/vnd.jupyter.widget-state+json": {
        "8c9b42e7007442e2aa6047ffb769d1f2": {
          "model_module": "@jupyter-widgets/controls",
          "model_name": "HBoxModel",
          "model_module_version": "1.5.0",
          "state": {
            "_dom_classes": [],
            "_model_module": "@jupyter-widgets/controls",
            "_model_module_version": "1.5.0",
            "_model_name": "HBoxModel",
            "_view_count": null,
            "_view_module": "@jupyter-widgets/controls",
            "_view_module_version": "1.5.0",
            "_view_name": "HBoxView",
            "box_style": "",
            "children": [
              "IPY_MODEL_7b1d513cfb874fb6a32d9b48e4272b70",
              "IPY_MODEL_1a6403b8e36f4c7d9b3c3ea8a3cb9e2b",
              "IPY_MODEL_d84485ae988149cf8bc9ae3468dfe889"
            ],
            "layout": "IPY_MODEL_e616a18f6dab48f69f1220bca7a3134b"
          }
        },
        "7b1d513cfb874fb6a32d9b48e4272b70": {
          "model_module": "@jupyter-widgets/controls",
          "model_name": "HTMLModel",
          "model_module_version": "1.5.0",
          "state": {
            "_dom_classes": [],
            "_model_module": "@jupyter-widgets/controls",
            "_model_module_version": "1.5.0",
            "_model_name": "HTMLModel",
            "_view_count": null,
            "_view_module": "@jupyter-widgets/controls",
            "_view_module_version": "1.5.0",
            "_view_name": "HTMLView",
            "description": "",
            "description_tooltip": null,
            "layout": "IPY_MODEL_6c1e047090754152a5e9ea001082ead7",
            "placeholder": "​",
            "style": "IPY_MODEL_9ff1176d30cd430f8ce6c76f4edae5fe",
            "value": "Downloading model.safetensors: 100%"
          }
        },
        "1a6403b8e36f4c7d9b3c3ea8a3cb9e2b": {
          "model_module": "@jupyter-widgets/controls",
          "model_name": "FloatProgressModel",
          "model_module_version": "1.5.0",
          "state": {
            "_dom_classes": [],
            "_model_module": "@jupyter-widgets/controls",
            "_model_module_version": "1.5.0",
            "_model_name": "FloatProgressModel",
            "_view_count": null,
            "_view_module": "@jupyter-widgets/controls",
            "_view_module_version": "1.5.0",
            "_view_name": "ProgressView",
            "bar_style": "success",
            "description": "",
            "description_tooltip": null,
            "layout": "IPY_MODEL_591ca58ffaa74c5b8915ae73aeb198d3",
            "max": 714290682,
            "min": 0,
            "orientation": "horizontal",
            "style": "IPY_MODEL_e992c4ae03984d0ea84e2dea9da4558a",
            "value": 714290682
          }
        },
        "d84485ae988149cf8bc9ae3468dfe889": {
          "model_module": "@jupyter-widgets/controls",
          "model_name": "HTMLModel",
          "model_module_version": "1.5.0",
          "state": {
            "_dom_classes": [],
            "_model_module": "@jupyter-widgets/controls",
            "_model_module_version": "1.5.0",
            "_model_name": "HTMLModel",
            "_view_count": null,
            "_view_module": "@jupyter-widgets/controls",
            "_view_module_version": "1.5.0",
            "_view_name": "HTMLView",
            "description": "",
            "description_tooltip": null,
            "layout": "IPY_MODEL_d6383b3102f44dbb8dbf9a769decebd9",
            "placeholder": "​",
            "style": "IPY_MODEL_cbc8343871cd4eddacf5fd4b10fe6803",
            "value": " 714M/714M [00:08&lt;00:00, 96.3MB/s]"
          }
        },
        "e616a18f6dab48f69f1220bca7a3134b": {
          "model_module": "@jupyter-widgets/base",
          "model_name": "LayoutModel",
          "model_module_version": "1.2.0",
          "state": {
            "_model_module": "@jupyter-widgets/base",
            "_model_module_version": "1.2.0",
            "_model_name": "LayoutModel",
            "_view_count": null,
            "_view_module": "@jupyter-widgets/base",
            "_view_module_version": "1.2.0",
            "_view_name": "LayoutView",
            "align_content": null,
            "align_items": null,
            "align_self": null,
            "border": null,
            "bottom": null,
            "display": null,
            "flex": null,
            "flex_flow": null,
            "grid_area": null,
            "grid_auto_columns": null,
            "grid_auto_flow": null,
            "grid_auto_rows": null,
            "grid_column": null,
            "grid_gap": null,
            "grid_row": null,
            "grid_template_areas": null,
            "grid_template_columns": null,
            "grid_template_rows": null,
            "height": null,
            "justify_content": null,
            "justify_items": null,
            "left": null,
            "margin": null,
            "max_height": null,
            "max_width": null,
            "min_height": null,
            "min_width": null,
            "object_fit": null,
            "object_position": null,
            "order": null,
            "overflow": null,
            "overflow_x": null,
            "overflow_y": null,
            "padding": null,
            "right": null,
            "top": null,
            "visibility": null,
            "width": null
          }
        },
        "6c1e047090754152a5e9ea001082ead7": {
          "model_module": "@jupyter-widgets/base",
          "model_name": "LayoutModel",
          "model_module_version": "1.2.0",
          "state": {
            "_model_module": "@jupyter-widgets/base",
            "_model_module_version": "1.2.0",
            "_model_name": "LayoutModel",
            "_view_count": null,
            "_view_module": "@jupyter-widgets/base",
            "_view_module_version": "1.2.0",
            "_view_name": "LayoutView",
            "align_content": null,
            "align_items": null,
            "align_self": null,
            "border": null,
            "bottom": null,
            "display": null,
            "flex": null,
            "flex_flow": null,
            "grid_area": null,
            "grid_auto_columns": null,
            "grid_auto_flow": null,
            "grid_auto_rows": null,
            "grid_column": null,
            "grid_gap": null,
            "grid_row": null,
            "grid_template_areas": null,
            "grid_template_columns": null,
            "grid_template_rows": null,
            "height": null,
            "justify_content": null,
            "justify_items": null,
            "left": null,
            "margin": null,
            "max_height": null,
            "max_width": null,
            "min_height": null,
            "min_width": null,
            "object_fit": null,
            "object_position": null,
            "order": null,
            "overflow": null,
            "overflow_x": null,
            "overflow_y": null,
            "padding": null,
            "right": null,
            "top": null,
            "visibility": null,
            "width": null
          }
        },
        "9ff1176d30cd430f8ce6c76f4edae5fe": {
          "model_module": "@jupyter-widgets/controls",
          "model_name": "DescriptionStyleModel",
          "model_module_version": "1.5.0",
          "state": {
            "_model_module": "@jupyter-widgets/controls",
            "_model_module_version": "1.5.0",
            "_model_name": "DescriptionStyleModel",
            "_view_count": null,
            "_view_module": "@jupyter-widgets/base",
            "_view_module_version": "1.2.0",
            "_view_name": "StyleView",
            "description_width": ""
          }
        },
        "591ca58ffaa74c5b8915ae73aeb198d3": {
          "model_module": "@jupyter-widgets/base",
          "model_name": "LayoutModel",
          "model_module_version": "1.2.0",
          "state": {
            "_model_module": "@jupyter-widgets/base",
            "_model_module_version": "1.2.0",
            "_model_name": "LayoutModel",
            "_view_count": null,
            "_view_module": "@jupyter-widgets/base",
            "_view_module_version": "1.2.0",
            "_view_name": "LayoutView",
            "align_content": null,
            "align_items": null,
            "align_self": null,
            "border": null,
            "bottom": null,
            "display": null,
            "flex": null,
            "flex_flow": null,
            "grid_area": null,
            "grid_auto_columns": null,
            "grid_auto_flow": null,
            "grid_auto_rows": null,
            "grid_column": null,
            "grid_gap": null,
            "grid_row": null,
            "grid_template_areas": null,
            "grid_template_columns": null,
            "grid_template_rows": null,
            "height": null,
            "justify_content": null,
            "justify_items": null,
            "left": null,
            "margin": null,
            "max_height": null,
            "max_width": null,
            "min_height": null,
            "min_width": null,
            "object_fit": null,
            "object_position": null,
            "order": null,
            "overflow": null,
            "overflow_x": null,
            "overflow_y": null,
            "padding": null,
            "right": null,
            "top": null,
            "visibility": null,
            "width": null
          }
        },
        "e992c4ae03984d0ea84e2dea9da4558a": {
          "model_module": "@jupyter-widgets/controls",
          "model_name": "ProgressStyleModel",
          "model_module_version": "1.5.0",
          "state": {
            "_model_module": "@jupyter-widgets/controls",
            "_model_module_version": "1.5.0",
            "_model_name": "ProgressStyleModel",
            "_view_count": null,
            "_view_module": "@jupyter-widgets/base",
            "_view_module_version": "1.2.0",
            "_view_name": "StyleView",
            "bar_color": null,
            "description_width": ""
          }
        },
        "d6383b3102f44dbb8dbf9a769decebd9": {
          "model_module": "@jupyter-widgets/base",
          "model_name": "LayoutModel",
          "model_module_version": "1.2.0",
          "state": {
            "_model_module": "@jupyter-widgets/base",
            "_model_module_version": "1.2.0",
            "_model_name": "LayoutModel",
            "_view_count": null,
            "_view_module": "@jupyter-widgets/base",
            "_view_module_version": "1.2.0",
            "_view_name": "LayoutView",
            "align_content": null,
            "align_items": null,
            "align_self": null,
            "border": null,
            "bottom": null,
            "display": null,
            "flex": null,
            "flex_flow": null,
            "grid_area": null,
            "grid_auto_columns": null,
            "grid_auto_flow": null,
            "grid_auto_rows": null,
            "grid_column": null,
            "grid_gap": null,
            "grid_row": null,
            "grid_template_areas": null,
            "grid_template_columns": null,
            "grid_template_rows": null,
            "height": null,
            "justify_content": null,
            "justify_items": null,
            "left": null,
            "margin": null,
            "max_height": null,
            "max_width": null,
            "min_height": null,
            "min_width": null,
            "object_fit": null,
            "object_position": null,
            "order": null,
            "overflow": null,
            "overflow_x": null,
            "overflow_y": null,
            "padding": null,
            "right": null,
            "top": null,
            "visibility": null,
            "width": null
          }
        },
        "cbc8343871cd4eddacf5fd4b10fe6803": {
          "model_module": "@jupyter-widgets/controls",
          "model_name": "DescriptionStyleModel",
          "model_module_version": "1.5.0",
          "state": {
            "_model_module": "@jupyter-widgets/controls",
            "_model_module_version": "1.5.0",
            "_model_name": "DescriptionStyleModel",
            "_view_count": null,
            "_view_module": "@jupyter-widgets/base",
            "_view_module_version": "1.2.0",
            "_view_name": "StyleView",
            "description_width": ""
          }
        }
      }
    }
  },
  "cells": [
    {
      "cell_type": "markdown",
      "metadata": {
        "id": "view-in-github",
        "colab_type": "text"
      },
      "source": [
        "<a href=\"https://colab.research.google.com/github/ShakambariSaxena/2-label-Classification/blob/main/2_label_classification_with_BERT_multilingual_model.ipynb\" target=\"_parent\"><img src=\"https://colab.research.google.com/assets/colab-badge.svg\" alt=\"Open In Colab\"/></a>"
      ]
    },
    {
      "cell_type": "markdown",
      "source": [
        "**Installing libraires**"
      ],
      "metadata": {
        "id": "YBV8PKd63THN"
      }
    },
    {
      "cell_type": "code",
      "source": [
        "!pip install nltk\n",
        "!pip install gensim\n",
        "!pip install scikit-learn"
      ],
      "metadata": {
        "colab": {
          "base_uri": "https://localhost:8080/"
        },
        "id": "yVa1kAX8kQU3",
        "outputId": "13ed9167-d156-4e1c-fc4b-122060c68be7"
      },
      "execution_count": null,
      "outputs": [
        {
          "output_type": "stream",
          "name": "stdout",
          "text": [
            "Requirement already satisfied: nltk in /usr/local/lib/python3.10/dist-packages (3.8.1)\n",
            "Requirement already satisfied: click in /usr/local/lib/python3.10/dist-packages (from nltk) (8.1.6)\n",
            "Requirement already satisfied: joblib in /usr/local/lib/python3.10/dist-packages (from nltk) (1.3.1)\n",
            "Requirement already satisfied: regex>=2021.8.3 in /usr/local/lib/python3.10/dist-packages (from nltk) (2022.10.31)\n",
            "Requirement already satisfied: tqdm in /usr/local/lib/python3.10/dist-packages (from nltk) (4.65.0)\n",
            "Requirement already satisfied: gensim in /usr/local/lib/python3.10/dist-packages (4.3.1)\n",
            "Requirement already satisfied: numpy>=1.18.5 in /usr/local/lib/python3.10/dist-packages (from gensim) (1.22.4)\n",
            "Requirement already satisfied: scipy>=1.7.0 in /usr/local/lib/python3.10/dist-packages (from gensim) (1.10.1)\n",
            "Requirement already satisfied: smart-open>=1.8.1 in /usr/local/lib/python3.10/dist-packages (from gensim) (6.3.0)\n",
            "Requirement already satisfied: scikit-learn in /usr/local/lib/python3.10/dist-packages (1.2.2)\n",
            "Requirement already satisfied: numpy>=1.17.3 in /usr/local/lib/python3.10/dist-packages (from scikit-learn) (1.22.4)\n",
            "Requirement already satisfied: scipy>=1.3.2 in /usr/local/lib/python3.10/dist-packages (from scikit-learn) (1.10.1)\n",
            "Requirement already satisfied: joblib>=1.1.1 in /usr/local/lib/python3.10/dist-packages (from scikit-learn) (1.3.1)\n",
            "Requirement already satisfied: threadpoolctl>=2.0.0 in /usr/local/lib/python3.10/dist-packages (from scikit-learn) (3.2.0)\n"
          ]
        }
      ]
    },
    {
      "cell_type": "code",
      "source": [
        "import tensorflow as tf\n",
        "from tensorflow import keras\n",
        "import nltk\n",
        "!python -m nltk.downloader popular\n",
        "nltk.download('punkt')\n",
        "nltk.download('stopwords')\n",
        "nltk.download('wordnet')\n",
        "!pip install imbalanced-learn"
      ],
      "metadata": {
        "colab": {
          "base_uri": "https://localhost:8080/"
        },
        "id": "_gpIFOGJkXgs",
        "outputId": "13cea52c-be98-45fe-b44b-16434f5ad27a"
      },
      "execution_count": null,
      "outputs": [
        {
          "output_type": "stream",
          "name": "stdout",
          "text": [
            "/usr/lib/python3.10/runpy.py:126: RuntimeWarning: 'nltk.downloader' found in sys.modules after import of package 'nltk', but prior to execution of 'nltk.downloader'; this may result in unpredictable behaviour\n",
            "  warn(RuntimeWarning(msg))\n",
            "[nltk_data] Downloading collection 'popular'\n",
            "[nltk_data]    | \n",
            "[nltk_data]    | Downloading package cmudict to /root/nltk_data...\n",
            "[nltk_data]    |   Unzipping corpora/cmudict.zip.\n",
            "[nltk_data]    | Downloading package gazetteers to /root/nltk_data...\n",
            "[nltk_data]    |   Unzipping corpora/gazetteers.zip.\n",
            "[nltk_data]    | Downloading package genesis to /root/nltk_data...\n",
            "[nltk_data]    |   Unzipping corpora/genesis.zip.\n",
            "[nltk_data]    | Downloading package gutenberg to /root/nltk_data...\n",
            "[nltk_data]    |   Unzipping corpora/gutenberg.zip.\n",
            "[nltk_data]    | Downloading package inaugural to /root/nltk_data...\n",
            "[nltk_data]    |   Unzipping corpora/inaugural.zip.\n",
            "[nltk_data]    | Downloading package movie_reviews to\n",
            "[nltk_data]    |     /root/nltk_data...\n",
            "[nltk_data]    |   Unzipping corpora/movie_reviews.zip.\n",
            "[nltk_data]    | Downloading package names to /root/nltk_data...\n",
            "[nltk_data]    |   Unzipping corpora/names.zip.\n",
            "[nltk_data]    | Downloading package shakespeare to /root/nltk_data...\n",
            "[nltk_data]    |   Unzipping corpora/shakespeare.zip.\n",
            "[nltk_data]    | Downloading package stopwords to /root/nltk_data...\n",
            "[nltk_data]    |   Unzipping corpora/stopwords.zip.\n",
            "[nltk_data]    | Downloading package treebank to /root/nltk_data...\n",
            "[nltk_data]    |   Unzipping corpora/treebank.zip.\n",
            "[nltk_data]    | Downloading package twitter_samples to\n",
            "[nltk_data]    |     /root/nltk_data...\n",
            "[nltk_data]    |   Unzipping corpora/twitter_samples.zip.\n",
            "[nltk_data]    | Downloading package omw to /root/nltk_data...\n",
            "[nltk_data]    | Downloading package omw-1.4 to /root/nltk_data...\n",
            "[nltk_data]    | Downloading package wordnet to /root/nltk_data...\n",
            "[nltk_data]    | Downloading package wordnet2021 to /root/nltk_data...\n",
            "[nltk_data]    | Downloading package wordnet31 to /root/nltk_data...\n",
            "[nltk_data]    | Downloading package wordnet_ic to /root/nltk_data...\n",
            "[nltk_data]    |   Unzipping corpora/wordnet_ic.zip.\n",
            "[nltk_data]    | Downloading package words to /root/nltk_data...\n",
            "[nltk_data]    |   Unzipping corpora/words.zip.\n",
            "[nltk_data]    | Downloading package maxent_ne_chunker to\n",
            "[nltk_data]    |     /root/nltk_data...\n",
            "[nltk_data]    |   Unzipping chunkers/maxent_ne_chunker.zip.\n",
            "[nltk_data]    | Downloading package punkt to /root/nltk_data...\n",
            "[nltk_data]    |   Unzipping tokenizers/punkt.zip.\n",
            "[nltk_data]    | Downloading package snowball_data to\n",
            "[nltk_data]    |     /root/nltk_data...\n",
            "[nltk_data]    | Downloading package averaged_perceptron_tagger to\n",
            "[nltk_data]    |     /root/nltk_data...\n",
            "[nltk_data]    |   Unzipping taggers/averaged_perceptron_tagger.zip.\n",
            "[nltk_data]    | \n",
            "[nltk_data]  Done downloading collection popular\n"
          ]
        },
        {
          "output_type": "stream",
          "name": "stderr",
          "text": [
            "[nltk_data] Downloading package punkt to /root/nltk_data...\n",
            "[nltk_data]   Package punkt is already up-to-date!\n",
            "[nltk_data] Downloading package stopwords to /root/nltk_data...\n",
            "[nltk_data]   Package stopwords is already up-to-date!\n",
            "[nltk_data] Downloading package wordnet to /root/nltk_data...\n",
            "[nltk_data]   Package wordnet is already up-to-date!\n"
          ]
        },
        {
          "output_type": "stream",
          "name": "stdout",
          "text": [
            "Requirement already satisfied: imbalanced-learn in /usr/local/lib/python3.10/dist-packages (0.10.1)\n",
            "Requirement already satisfied: numpy>=1.17.3 in /usr/local/lib/python3.10/dist-packages (from imbalanced-learn) (1.22.4)\n",
            "Requirement already satisfied: scipy>=1.3.2 in /usr/local/lib/python3.10/dist-packages (from imbalanced-learn) (1.10.1)\n",
            "Requirement already satisfied: scikit-learn>=1.0.2 in /usr/local/lib/python3.10/dist-packages (from imbalanced-learn) (1.2.2)\n",
            "Requirement already satisfied: joblib>=1.1.1 in /usr/local/lib/python3.10/dist-packages (from imbalanced-learn) (1.3.1)\n",
            "Requirement already satisfied: threadpoolctl>=2.0.0 in /usr/local/lib/python3.10/dist-packages (from imbalanced-learn) (3.2.0)\n"
          ]
        }
      ]
    },
    {
      "cell_type": "markdown",
      "source": [
        "**Uploading Dataset**"
      ],
      "metadata": {
        "id": "DTeWdb6k3ZX7"
      }
    },
    {
      "cell_type": "code",
      "source": [
        "from google.colab import files\n",
        "\n",
        "# Upload the zip file\n",
        "uploaded = files.upload()"
      ],
      "metadata": {
        "colab": {
          "base_uri": "https://localhost:8080/",
          "height": 90
        },
        "id": "b67DBXwvkbN0",
        "outputId": "5c8b7557-30c2-409d-c68a-2dca0f7f0ba2"
      },
      "execution_count": null,
      "outputs": [
        {
          "output_type": "display_data",
          "data": {
            "text/plain": [
              "<IPython.core.display.HTML object>"
            ],
            "text/html": [
              "\n",
              "     <input type=\"file\" id=\"files-74efde99-b022-4d0b-82e0-96d0ed462732\" name=\"files[]\" multiple disabled\n",
              "        style=\"border:none\" />\n",
              "     <output id=\"result-74efde99-b022-4d0b-82e0-96d0ed462732\">\n",
              "      Upload widget is only available when the cell has been executed in the\n",
              "      current browser session. Please rerun this cell to enable.\n",
              "      </output>\n",
              "      <script>// Copyright 2017 Google LLC\n",
              "//\n",
              "// Licensed under the Apache License, Version 2.0 (the \"License\");\n",
              "// you may not use this file except in compliance with the License.\n",
              "// You may obtain a copy of the License at\n",
              "//\n",
              "//      http://www.apache.org/licenses/LICENSE-2.0\n",
              "//\n",
              "// Unless required by applicable law or agreed to in writing, software\n",
              "// distributed under the License is distributed on an \"AS IS\" BASIS,\n",
              "// WITHOUT WARRANTIES OR CONDITIONS OF ANY KIND, either express or implied.\n",
              "// See the License for the specific language governing permissions and\n",
              "// limitations under the License.\n",
              "\n",
              "/**\n",
              " * @fileoverview Helpers for google.colab Python module.\n",
              " */\n",
              "(function(scope) {\n",
              "function span(text, styleAttributes = {}) {\n",
              "  const element = document.createElement('span');\n",
              "  element.textContent = text;\n",
              "  for (const key of Object.keys(styleAttributes)) {\n",
              "    element.style[key] = styleAttributes[key];\n",
              "  }\n",
              "  return element;\n",
              "}\n",
              "\n",
              "// Max number of bytes which will be uploaded at a time.\n",
              "const MAX_PAYLOAD_SIZE = 100 * 1024;\n",
              "\n",
              "function _uploadFiles(inputId, outputId) {\n",
              "  const steps = uploadFilesStep(inputId, outputId);\n",
              "  const outputElement = document.getElementById(outputId);\n",
              "  // Cache steps on the outputElement to make it available for the next call\n",
              "  // to uploadFilesContinue from Python.\n",
              "  outputElement.steps = steps;\n",
              "\n",
              "  return _uploadFilesContinue(outputId);\n",
              "}\n",
              "\n",
              "// This is roughly an async generator (not supported in the browser yet),\n",
              "// where there are multiple asynchronous steps and the Python side is going\n",
              "// to poll for completion of each step.\n",
              "// This uses a Promise to block the python side on completion of each step,\n",
              "// then passes the result of the previous step as the input to the next step.\n",
              "function _uploadFilesContinue(outputId) {\n",
              "  const outputElement = document.getElementById(outputId);\n",
              "  const steps = outputElement.steps;\n",
              "\n",
              "  const next = steps.next(outputElement.lastPromiseValue);\n",
              "  return Promise.resolve(next.value.promise).then((value) => {\n",
              "    // Cache the last promise value to make it available to the next\n",
              "    // step of the generator.\n",
              "    outputElement.lastPromiseValue = value;\n",
              "    return next.value.response;\n",
              "  });\n",
              "}\n",
              "\n",
              "/**\n",
              " * Generator function which is called between each async step of the upload\n",
              " * process.\n",
              " * @param {string} inputId Element ID of the input file picker element.\n",
              " * @param {string} outputId Element ID of the output display.\n",
              " * @return {!Iterable<!Object>} Iterable of next steps.\n",
              " */\n",
              "function* uploadFilesStep(inputId, outputId) {\n",
              "  const inputElement = document.getElementById(inputId);\n",
              "  inputElement.disabled = false;\n",
              "\n",
              "  const outputElement = document.getElementById(outputId);\n",
              "  outputElement.innerHTML = '';\n",
              "\n",
              "  const pickedPromise = new Promise((resolve) => {\n",
              "    inputElement.addEventListener('change', (e) => {\n",
              "      resolve(e.target.files);\n",
              "    });\n",
              "  });\n",
              "\n",
              "  const cancel = document.createElement('button');\n",
              "  inputElement.parentElement.appendChild(cancel);\n",
              "  cancel.textContent = 'Cancel upload';\n",
              "  const cancelPromise = new Promise((resolve) => {\n",
              "    cancel.onclick = () => {\n",
              "      resolve(null);\n",
              "    };\n",
              "  });\n",
              "\n",
              "  // Wait for the user to pick the files.\n",
              "  const files = yield {\n",
              "    promise: Promise.race([pickedPromise, cancelPromise]),\n",
              "    response: {\n",
              "      action: 'starting',\n",
              "    }\n",
              "  };\n",
              "\n",
              "  cancel.remove();\n",
              "\n",
              "  // Disable the input element since further picks are not allowed.\n",
              "  inputElement.disabled = true;\n",
              "\n",
              "  if (!files) {\n",
              "    return {\n",
              "      response: {\n",
              "        action: 'complete',\n",
              "      }\n",
              "    };\n",
              "  }\n",
              "\n",
              "  for (const file of files) {\n",
              "    const li = document.createElement('li');\n",
              "    li.append(span(file.name, {fontWeight: 'bold'}));\n",
              "    li.append(span(\n",
              "        `(${file.type || 'n/a'}) - ${file.size} bytes, ` +\n",
              "        `last modified: ${\n",
              "            file.lastModifiedDate ? file.lastModifiedDate.toLocaleDateString() :\n",
              "                                    'n/a'} - `));\n",
              "    const percent = span('0% done');\n",
              "    li.appendChild(percent);\n",
              "\n",
              "    outputElement.appendChild(li);\n",
              "\n",
              "    const fileDataPromise = new Promise((resolve) => {\n",
              "      const reader = new FileReader();\n",
              "      reader.onload = (e) => {\n",
              "        resolve(e.target.result);\n",
              "      };\n",
              "      reader.readAsArrayBuffer(file);\n",
              "    });\n",
              "    // Wait for the data to be ready.\n",
              "    let fileData = yield {\n",
              "      promise: fileDataPromise,\n",
              "      response: {\n",
              "        action: 'continue',\n",
              "      }\n",
              "    };\n",
              "\n",
              "    // Use a chunked sending to avoid message size limits. See b/62115660.\n",
              "    let position = 0;\n",
              "    do {\n",
              "      const length = Math.min(fileData.byteLength - position, MAX_PAYLOAD_SIZE);\n",
              "      const chunk = new Uint8Array(fileData, position, length);\n",
              "      position += length;\n",
              "\n",
              "      const base64 = btoa(String.fromCharCode.apply(null, chunk));\n",
              "      yield {\n",
              "        response: {\n",
              "          action: 'append',\n",
              "          file: file.name,\n",
              "          data: base64,\n",
              "        },\n",
              "      };\n",
              "\n",
              "      let percentDone = fileData.byteLength === 0 ?\n",
              "          100 :\n",
              "          Math.round((position / fileData.byteLength) * 100);\n",
              "      percent.textContent = `${percentDone}% done`;\n",
              "\n",
              "    } while (position < fileData.byteLength);\n",
              "  }\n",
              "\n",
              "  // All done.\n",
              "  yield {\n",
              "    response: {\n",
              "      action: 'complete',\n",
              "    }\n",
              "  };\n",
              "}\n",
              "\n",
              "scope.google = scope.google || {};\n",
              "scope.google.colab = scope.google.colab || {};\n",
              "scope.google.colab._files = {\n",
              "  _uploadFiles,\n",
              "  _uploadFilesContinue,\n",
              "};\n",
              "})(self);\n",
              "</script> "
            ]
          },
          "metadata": {}
        },
        {
          "output_type": "stream",
          "name": "stdout",
          "text": [
            "Saving transcripts.zip to transcripts.zip\n"
          ]
        }
      ]
    },
    {
      "cell_type": "code",
      "source": [
        "import zipfile\n",
        "\n",
        "zip_file_path = '/content/transcripts.zip'  # Replace with the actual path to your zip file\n",
        "folder_to_extract = 'transcript'  # Replace with the name of the folder you want to extract\n",
        "\n",
        "with zipfile.ZipFile(zip_file_path, 'r') as zip_ref:\n",
        "    zip_ref.extractall(folder_to_extract)\n",
        "\n",
        "print(\"Folder extraction complete.\")"
      ],
      "metadata": {
        "colab": {
          "base_uri": "https://localhost:8080/"
        },
        "id": "a9h5a0Cekdl_",
        "outputId": "066f5d14-3abf-4597-d2cd-b7bf1e1fca28"
      },
      "execution_count": null,
      "outputs": [
        {
          "output_type": "stream",
          "name": "stdout",
          "text": [
            "Folder extraction complete.\n"
          ]
        }
      ]
    },
    {
      "cell_type": "code",
      "source": [
        "import os\n",
        "import re\n",
        "\n",
        "corpus_dir = '/content/transcript/transcripts'\n",
        "\n",
        "texts = []\n",
        "labels = []\n",
        "\n",
        "folder_names = [folder for folder in os.listdir(corpus_dir) if os.path.isdir(os.path.join(corpus_dir, folder))]\n",
        "folder_names.sort()\n",
        "\n",
        "for folder_name in folder_names:\n",
        "    folder_path = os.path.join(corpus_dir, folder_name)\n",
        "\n",
        "    # Get the list of text files in the folder\n",
        "    files = [file for file in os.listdir(folder_path) if file.endswith('.txt')]\n",
        "\n",
        "    if len(files) == 1:\n",
        "        # Process the single text file in the folder\n",
        "        file_path = os.path.join(folder_path, files[0])\n",
        "        with open(file_path, 'r') as f:\n",
        "            lines = f.readlines()\n",
        "\n",
        "            for line in lines:\n",
        "                line = line.strip()\n",
        "                if line:\n",
        "                    match = re.search(r\"['\\\"](.*?)\\[([\\d]+)\\]\", line)\n",
        "                    if match:\n",
        "                        sentence = match.group(1)\n",
        "                        label = match.group(2)\n",
        "\n",
        "                        sentence = re.sub(r'^\\d+\\.\\s+', '', sentence)\n",
        "                        sentence = re.sub(r'[^\\w\\s]', '', sentence)  # Remove symbols\n",
        "                        sentence = sentence.lower()\n",
        "\n",
        "                        texts.append(sentence)\n",
        "                        labels.append(int(label))\n",
        "\n",
        "    elif len(files) == 2:\n",
        "        # Process Channel_1 text file\n",
        "        file_path = os.path.join(folder_path, 'Channel_1.txt')\n",
        "        with open(file_path, 'r') as f:\n",
        "            lines = f.readlines()\n",
        "\n",
        "            for line in lines:\n",
        "                line = line.strip()\n",
        "                if line:\n",
        "                    match = re.search(r\"['\\\"](.*?)\\[([\\d]+)\\]\", line)\n",
        "                    if match:\n",
        "                        sentence = match.group(1)\n",
        "                        label = match.group(2)\n",
        "\n",
        "                        sentence = re.sub(r'^\\d+\\.\\s+', '', sentence)\n",
        "                        sentence = re.sub(r'[^\\w\\s]', '', sentence)  # Remove symbols\n",
        "                        sentence = sentence.lower()\n",
        "\n",
        "                        texts.append(sentence)\n",
        "                        labels.append(int(label))\n",
        "\n",
        "        # Process Channel_2 text file\n",
        "        file_path = os.path.join(folder_path, 'Channel_2.txt')\n",
        "        with open(file_path, 'r') as f:\n",
        "            lines = f.readlines()\n",
        "\n",
        "            for line in lines:\n",
        "                line = line.strip()\n",
        "                if line:\n",
        "                    match = re.search(r\"['\\\"](.*?)\\[([\\d]+)\\]\", line)\n",
        "                    if match:\n",
        "                        sentence = match.group(1)\n",
        "                        label = match.group(2)\n",
        "\n",
        "                        sentence = re.sub(r'^\\d+\\.\\s+', '', sentence)\n",
        "                        sentence = re.sub(r'[^\\w\\s]', '', sentence)  # Remove symbols\n",
        "                        sentence = sentence.lower()\n",
        "\n",
        "                        texts.append(sentence)\n",
        "                        labels.append(int(label))\n",
        "\n",
        "# Write the text and label data to a new file in the current directory\n",
        "output_file = 'dataset.txt'\n",
        "with open(output_file, 'w') as f:\n",
        "    for text, label in zip(texts, labels):\n",
        "        line = f'{label}\\t{text}\\n'\n",
        "        f.write(line)\n"
      ],
      "metadata": {
        "id": "mFSAtwsB5cZg"
      },
      "execution_count": null,
      "outputs": []
    },
    {
      "cell_type": "markdown",
      "source": [
        "**Preprocessing Dataset**"
      ],
      "metadata": {
        "id": "Ng_nFvJo3dcK"
      }
    },
    {
      "cell_type": "code",
      "source": [
        "from textblob import TextBlob\n",
        "from nltk.corpus import stopwords\n",
        "from nltk.stem import SnowballStemmer, WordNetLemmatizer\n",
        "\n",
        "def process_text(input_file, output_file):\n",
        "    english_stopwords = set(stopwords.words('english'))\n",
        "    german_stopwords = set(stopwords.words('german'))\n",
        "    stemmer = SnowballStemmer(\"german\")\n",
        "    lemmatizer = WordNetLemmatizer()\n",
        "\n",
        "    with open(input_file, 'r') as file:\n",
        "        lines = file.readlines()\n",
        "\n",
        "    processed_lines = []\n",
        "    for line in lines:\n",
        "        label, text = line.split('\\t')\n",
        "\n",
        "        # Skip the line if the label is 4 or 1\n",
        "        if label in ['4', '1']:\n",
        "            continue\n",
        "\n",
        "        blob = TextBlob(text)\n",
        "\n",
        "        # Remove stopwords and perform stemming and lemmatization\n",
        "        words = [lemmatizer.lemmatize(stemmer.stem(word.lower())) for word in blob.words\n",
        "                 if word.lower() not in english_stopwords and word.lower() not in german_stopwords]\n",
        "\n",
        "        processed_text = ' '.join(words)\n",
        "\n",
        "        # Skip processing if line becomes blank\n",
        "        if not processed_text.strip():\n",
        "            continue\n",
        "\n",
        "        processed_lines.append(f\"{label}\\t{processed_text}\\n\")\n",
        "\n",
        "    with open(output_file, 'w') as file:\n",
        "        file.writelines(processed_lines)\n",
        "\n",
        "# Specify the paths to your input and output files\n",
        "input_file = '/content/dataset.txt'\n",
        "output_file = '/content/preprocessed_dataset.txt'\n",
        "\n",
        "# Call the function to process the text file\n",
        "process_text(input_file, output_file)\n"
      ],
      "metadata": {
        "id": "m4ECxmLhBteS"
      },
      "execution_count": null,
      "outputs": []
    },
    {
      "cell_type": "code",
      "source": [
        "import os\n",
        "import random\n",
        "import matplotlib.pyplot as plt\n",
        "import seaborn as sns\n",
        "\n",
        "# Step 1: Prepare the dataset\n",
        "sentences = []\n",
        "labels = []\n",
        "with open('/content/preprocessed_dataset.txt', 'r') as file:\n",
        "    for line in file:\n",
        "        line = line.strip()\n",
        "        if line:\n",
        "            parts = line.split('\\t')\n",
        "            if len(parts) == 2:\n",
        "                label, sentence = parts\n",
        "                sentences.append(sentence)\n",
        "                labels.append(int(label))\n",
        "\n",
        "split_ratio = 0.8  # 80% for training, 20% for testing\n",
        "split_index = int(len(sentences) * split_ratio)\n",
        "train_sentences = sentences[:split_index]\n",
        "train_labels = labels[:split_index]\n",
        "test_sentences = sentences[split_index:]\n",
        "test_labels = labels[split_index:]\n",
        "\n",
        "# Step 3: Create train and test folders\n",
        "train_folder = '/content/train_dataset'\n",
        "test_folder = '/content/test_dataset'\n",
        "\n",
        "os.makedirs(train_folder, exist_ok=True)\n",
        "os.makedirs(test_folder, exist_ok=True)\n",
        "\n",
        "# Save train dataset\n",
        "with open(os.path.join(train_folder, 'train_dataset.txt'), 'w') as file:\n",
        "    for sentence, label in zip(train_sentences, train_labels):\n",
        "        file.write(f'{label}\\t{sentence}\\n')\n",
        "\n",
        "# Save test dataset\n",
        "with open(os.path.join(test_folder, 'test_dataset.txt'), 'w') as file:\n",
        "    for sentence, label in zip(test_sentences, test_labels):\n",
        "        file.write(f'{label}\\t{sentence}\\n')\n",
        "\n",
        "# Step 4: Calculate label distributions\n",
        "train_label_counts = {label: train_labels.count(label) for label in set(train_labels)}\n",
        "test_label_counts = {label: test_labels.count(label) for label in set(test_labels)}\n",
        "\n",
        "# Step 5: Plot label distributions\n",
        "plt.figure(figsize=(10, 4))\n",
        "plt.subplot(1, 2, 1)\n",
        "sns.barplot(x=list(train_label_counts.keys()), y=list(train_label_counts.values()))\n",
        "plt.xlabel('Label')\n",
        "plt.ylabel('Count')\n",
        "plt.title('Train Label Distribution')\n",
        "\n",
        "plt.subplot(1, 2, 2)\n",
        "sns.barplot(x=list(test_label_counts.keys()), y=list(test_label_counts.values()))\n",
        "plt.xlabel('Label')\n",
        "plt.ylabel('Count')\n",
        "plt.title('Test Label Distribution')\n",
        "\n",
        "plt.tight_layout()\n",
        "plt.show()\n",
        "\n",
        "print(train_label_counts)\n",
        "print(test_label_counts)"
      ],
      "metadata": {
        "colab": {
          "base_uri": "https://localhost:8080/",
          "height": 300
        },
        "id": "HNzJDEF05lmN",
        "outputId": "9adf3af5-6ceb-452e-d7e9-c3552e05e1c6"
      },
      "execution_count": null,
      "outputs": [
        {
          "output_type": "display_data",
          "data": {
            "text/plain": [
              "<Figure size 1000x400 with 2 Axes>"
            ],
            "image/png": "[encoded data removed]"
          },
          "metadata": {}
        },
        {
          "output_type": "stream",
          "name": "stdout",
          "text": [
            "{2: 2133, 3: 4580}\n",
            "{2: 692, 3: 987}\n"
          ]
        }
      ]
    },
    {
      "cell_type": "markdown",
      "source": [
        "**Installing Libraries for BERT model**"
      ],
      "metadata": {
        "id": "2yM5o0hQ3iiX"
      }
    },
    {
      "cell_type": "code",
      "execution_count": null,
      "metadata": {
        "colab": {
          "base_uri": "https://localhost:8080/"
        },
        "id": "VD65AA8WjuKu",
        "outputId": "a2eb4cab-147b-47e0-9ed4-e728aaaee689"
      },
      "outputs": [
        {
          "output_type": "stream",
          "name": "stdout",
          "text": [
            "Collecting transformers\n",
            "  Downloading transformers-4.31.0-py3-none-any.whl (7.4 MB)\n",
            "\u001b[2K     \u001b[90m━━━━━━━━━━━━━━━━━━━━━━━━━━━━━━━━━━━━━━━━\u001b[0m \u001b[32m7.4/7.4 MB\u001b[0m \u001b[31m27.4 MB/s\u001b[0m eta \u001b[36m0:00:00\u001b[0m\n",
            "\u001b[?25hRequirement already satisfied: filelock in /usr/local/lib/python3.10/dist-packages (from transformers) (3.12.2)\n",
            "Collecting huggingface-hub<1.0,>=0.14.1 (from transformers)\n",
            "  Downloading huggingface_hub-0.16.4-py3-none-any.whl (268 kB)\n",
            "\u001b[2K     \u001b[90m━━━━━━━━━━━━━━━━━━━━━━━━━━━━━━━━━━━━━━\u001b[0m \u001b[32m268.8/268.8 kB\u001b[0m \u001b[31m30.6 MB/s\u001b[0m eta \u001b[36m0:00:00\u001b[0m\n",
            "\u001b[?25hRequirement already satisfied: numpy>=1.17 in /usr/local/lib/python3.10/dist-packages (from transformers) (1.22.4)\n",
            "Requirement already satisfied: packaging>=20.0 in /usr/local/lib/python3.10/dist-packages (from transformers) (23.1)\n",
            "Requirement already satisfied: pyyaml>=5.1 in /usr/local/lib/python3.10/dist-packages (from transformers) (6.0.1)\n",
            "Requirement already satisfied: regex!=2019.12.17 in /usr/local/lib/python3.10/dist-packages (from transformers) (2022.10.31)\n",
            "Requirement already satisfied: requests in /usr/local/lib/python3.10/dist-packages (from transformers) (2.27.1)\n",
            "Collecting tokenizers!=0.11.3,<0.14,>=0.11.1 (from transformers)\n",
            "  Downloading tokenizers-0.13.3-cp310-cp310-manylinux_2_17_x86_64.manylinux2014_x86_64.whl (7.8 MB)\n",
            "\u001b[2K     \u001b[90m━━━━━━━━━━━━━━━━━━━━━━━━━━━━━━━━━━━━━━━━\u001b[0m \u001b[32m7.8/7.8 MB\u001b[0m \u001b[31m84.4 MB/s\u001b[0m eta \u001b[36m0:00:00\u001b[0m\n",
            "\u001b[?25hCollecting safetensors>=0.3.1 (from transformers)\n",
            "  Downloading safetensors-0.3.1-cp310-cp310-manylinux_2_17_x86_64.manylinux2014_x86_64.whl (1.3 MB)\n",
            "\u001b[2K     \u001b[90m━━━━━━━━━━━━━━━━━━━━━━━━━━━━━━━━━━━━━━━━\u001b[0m \u001b[32m1.3/1.3 MB\u001b[0m \u001b[31m70.1 MB/s\u001b[0m eta \u001b[36m0:00:00\u001b[0m\n",
            "\u001b[?25hRequirement already satisfied: tqdm>=4.27 in /usr/local/lib/python3.10/dist-packages (from transformers) (4.65.0)\n",
            "Requirement already satisfied: fsspec in /usr/local/lib/python3.10/dist-packages (from huggingface-hub<1.0,>=0.14.1->transformers) (2023.6.0)\n",
            "Requirement already satisfied: typing-extensions>=3.7.4.3 in /usr/local/lib/python3.10/dist-packages (from huggingface-hub<1.0,>=0.14.1->transformers) (4.7.1)\n",
            "Requirement already satisfied: urllib3<1.27,>=1.21.1 in /usr/local/lib/python3.10/dist-packages (from requests->transformers) (1.26.16)\n",
            "Requirement already satisfied: certifi>=2017.4.17 in /usr/local/lib/python3.10/dist-packages (from requests->transformers) (2023.5.7)\n",
            "Requirement already satisfied: charset-normalizer~=2.0.0 in /usr/local/lib/python3.10/dist-packages (from requests->transformers) (2.0.12)\n",
            "Requirement already satisfied: idna<4,>=2.5 in /usr/local/lib/python3.10/dist-packages (from requests->transformers) (3.4)\n",
            "Installing collected packages: tokenizers, safetensors, huggingface-hub, transformers\n",
            "Successfully installed huggingface-hub-0.16.4 safetensors-0.3.1 tokenizers-0.13.3 transformers-4.31.0\n",
            "Requirement already satisfied: torch in /usr/local/lib/python3.10/dist-packages (2.0.1+cu118)\n",
            "Requirement already satisfied: filelock in /usr/local/lib/python3.10/dist-packages (from torch) (3.12.2)\n",
            "Requirement already satisfied: typing-extensions in /usr/local/lib/python3.10/dist-packages (from torch) (4.7.1)\n",
            "Requirement already satisfied: sympy in /usr/local/lib/python3.10/dist-packages (from torch) (1.11.1)\n",
            "Requirement already satisfied: networkx in /usr/local/lib/python3.10/dist-packages (from torch) (3.1)\n",
            "Requirement already satisfied: jinja2 in /usr/local/lib/python3.10/dist-packages (from torch) (3.1.2)\n",
            "Requirement already satisfied: triton==2.0.0 in /usr/local/lib/python3.10/dist-packages (from torch) (2.0.0)\n",
            "Requirement already satisfied: cmake in /usr/local/lib/python3.10/dist-packages (from triton==2.0.0->torch) (3.25.2)\n",
            "Requirement already satisfied: lit in /usr/local/lib/python3.10/dist-packages (from triton==2.0.0->torch) (16.0.6)\n",
            "Requirement already satisfied: MarkupSafe>=2.0 in /usr/local/lib/python3.10/dist-packages (from jinja2->torch) (2.1.3)\n",
            "Requirement already satisfied: mpmath>=0.19 in /usr/local/lib/python3.10/dist-packages (from sympy->torch) (1.3.0)\n",
            "Requirement already satisfied: transformers in /usr/local/lib/python3.10/dist-packages (4.31.0)\n",
            "Requirement already satisfied: torch in /usr/local/lib/python3.10/dist-packages (2.0.1+cu118)\n",
            "Requirement already satisfied: filelock in /usr/local/lib/python3.10/dist-packages (from transformers) (3.12.2)\n",
            "Requirement already satisfied: huggingface-hub<1.0,>=0.14.1 in /usr/local/lib/python3.10/dist-packages (from transformers) (0.16.4)\n",
            "Requirement already satisfied: numpy>=1.17 in /usr/local/lib/python3.10/dist-packages (from transformers) (1.22.4)\n",
            "Requirement already satisfied: packaging>=20.0 in /usr/local/lib/python3.10/dist-packages (from transformers) (23.1)\n",
            "Requirement already satisfied: pyyaml>=5.1 in /usr/local/lib/python3.10/dist-packages (from transformers) (6.0.1)\n",
            "Requirement already satisfied: regex!=2019.12.17 in /usr/local/lib/python3.10/dist-packages (from transformers) (2022.10.31)\n",
            "Requirement already satisfied: requests in /usr/local/lib/python3.10/dist-packages (from transformers) (2.27.1)\n",
            "Requirement already satisfied: tokenizers!=0.11.3,<0.14,>=0.11.1 in /usr/local/lib/python3.10/dist-packages (from transformers) (0.13.3)\n",
            "Requirement already satisfied: safetensors>=0.3.1 in /usr/local/lib/python3.10/dist-packages (from transformers) (0.3.1)\n",
            "Requirement already satisfied: tqdm>=4.27 in /usr/local/lib/python3.10/dist-packages (from transformers) (4.65.0)\n",
            "Requirement already satisfied: typing-extensions in /usr/local/lib/python3.10/dist-packages (from torch) (4.7.1)\n",
            "Requirement already satisfied: sympy in /usr/local/lib/python3.10/dist-packages (from torch) (1.11.1)\n",
            "Requirement already satisfied: networkx in /usr/local/lib/python3.10/dist-packages (from torch) (3.1)\n",
            "Requirement already satisfied: jinja2 in /usr/local/lib/python3.10/dist-packages (from torch) (3.1.2)\n",
            "Requirement already satisfied: triton==2.0.0 in /usr/local/lib/python3.10/dist-packages (from torch) (2.0.0)\n",
            "Requirement already satisfied: cmake in /usr/local/lib/python3.10/dist-packages (from triton==2.0.0->torch) (3.25.2)\n",
            "Requirement already satisfied: lit in /usr/local/lib/python3.10/dist-packages (from triton==2.0.0->torch) (16.0.6)\n",
            "Requirement already satisfied: fsspec in /usr/local/lib/python3.10/dist-packages (from huggingface-hub<1.0,>=0.14.1->transformers) (2023.6.0)\n",
            "Requirement already satisfied: MarkupSafe>=2.0 in /usr/local/lib/python3.10/dist-packages (from jinja2->torch) (2.1.3)\n",
            "Requirement already satisfied: urllib3<1.27,>=1.21.1 in /usr/local/lib/python3.10/dist-packages (from requests->transformers) (1.26.16)\n",
            "Requirement already satisfied: certifi>=2017.4.17 in /usr/local/lib/python3.10/dist-packages (from requests->transformers) (2023.5.7)\n",
            "Requirement already satisfied: charset-normalizer~=2.0.0 in /usr/local/lib/python3.10/dist-packages (from requests->transformers) (2.0.12)\n",
            "Requirement already satisfied: idna<4,>=2.5 in /usr/local/lib/python3.10/dist-packages (from requests->transformers) (3.4)\n",
            "Requirement already satisfied: mpmath>=0.19 in /usr/local/lib/python3.10/dist-packages (from sympy->torch) (1.3.0)\n"
          ]
        }
      ],
      "source": [
        "!pip install transformers\n",
        "!pip install torch\n",
        "!pip install transformers torch"
      ]
    },
    {
      "cell_type": "markdown",
      "source": [
        "**Importing libraries**"
      ],
      "metadata": {
        "id": "4B3YkCq93qFJ"
      }
    },
    {
      "cell_type": "code",
      "source": [
        "import torch\n",
        "from transformers import BertTokenizer, BertForSequenceClassification\n",
        "from torch.utils.data import DataLoader, TensorDataset\n",
        "from sklearn.metrics import accuracy_score, precision_score, recall_score, f1_score\n",
        "import matplotlib.pyplot as plt"
      ],
      "metadata": {
        "id": "rQAmhuLUkEoz"
      },
      "execution_count": null,
      "outputs": []
    },
    {
      "cell_type": "code",
      "source": [
        "def load_data_from_file(file_path):\n",
        "    labels = []\n",
        "    sentences = []\n",
        "    with open(file_path, 'r', encoding='utf-8') as f:\n",
        "        lines = f.readlines()\n",
        "    for line in lines:\n",
        "        elements = line.strip().split('\\t')\n",
        "        label = int(elements[0])  # Assuming the label is the first element in each line\n",
        "        text = ' '.join(elements[1:])  # Combine the rest of the elements as the text\n",
        "        labels.append(label)\n",
        "        sentences.append(text)\n",
        "    return labels, sentences\n"
      ],
      "metadata": {
        "id": "A_oHSXRYkLFS"
      },
      "execution_count": null,
      "outputs": []
    },
    {
      "cell_type": "code",
      "source": [
        "# Load training data\n",
        "train_file = \"/content/train_dataset/train_dataset.txt\"\n",
        "labels_train,sentences_train = load_data_from_file(train_file)\n",
        "\n",
        "# Load testing data\n",
        "test_file = \"/content/test_dataset/test_dataset.txt\"\n",
        "labels_test,sentences_test = load_data_from_file(test_file)"
      ],
      "metadata": {
        "id": "lrnttbZ8kNp4"
      },
      "execution_count": null,
      "outputs": []
    },
    {
      "cell_type": "code",
      "source": [
        "# Load BERT tokenizer\n",
        "tokenizer = BertTokenizer.from_pretrained(\"bert-base-multilingual-cased\")\n",
        "\n",
        "# Tokenize training data\n",
        "tokenized_train = tokenizer(sentences_train, padding=True, truncation=True, return_tensors=\"pt\")\n",
        "input_ids_train = tokenized_train.input_ids\n",
        "attention_mask_train = tokenized_train.attention_mask\n",
        "labels_train = torch.tensor(labels_train)\n",
        "\n",
        "# Tokenize testing data\n",
        "tokenized_test = tokenizer(sentences_test, padding=True, truncation=True, return_tensors=\"pt\")\n",
        "input_ids_test = tokenized_test.input_ids\n",
        "attention_mask_test = tokenized_test.attention_mask\n",
        "labels_test = torch.tensor(labels_test)"
      ],
      "metadata": {
        "colab": {
          "base_uri": "https://localhost:8080/"
        },
        "id": "oq6E2CZTk3y7",
        "outputId": "8b68fb27-6183-46f2-d7ca-1e3333cc0c5f"
      },
      "execution_count": null,
      "outputs": [
        {
          "output_type": "stream",
          "name": "stderr",
          "text": [
            "<ipython-input-20-c5f72fda673b>:8: UserWarning: To copy construct from a tensor, it is recommended to use sourceTensor.clone().detach() or sourceTensor.clone().detach().requires_grad_(True), rather than torch.tensor(sourceTensor).\n",
            "  labels_train = torch.tensor(labels_train)\n",
            "<ipython-input-20-c5f72fda673b>:14: UserWarning: To copy construct from a tensor, it is recommended to use sourceTensor.clone().detach() or sourceTensor.clone().detach().requires_grad_(True), rather than torch.tensor(sourceTensor).\n",
            "  labels_test = torch.tensor(labels_test)\n"
          ]
        }
      ]
    },
    {
      "cell_type": "markdown",
      "source": [
        "**Creating train,test and validation dataset**"
      ],
      "metadata": {
        "id": "5nO24yw63xLh"
      }
    },
    {
      "cell_type": "code",
      "source": [
        "from torch.utils.data import random_split\n",
        "# Split the training data into training set and validation set (80-20 split)\n",
        "train_val_dataset = TensorDataset(input_ids_train, attention_mask_train, labels_train)\n",
        "train_size = int(0.8 * len(train_val_dataset))\n",
        "val_size = len(train_val_dataset) - train_size\n",
        "train_dataset, val_dataset = random_split(train_val_dataset, [train_size, val_size])\n",
        "\n",
        "# Tokenize training data\n",
        "train_dataloader = DataLoader(train_dataset, batch_size=32, shuffle=True)\n",
        "\n",
        "# Tokenize validation data\n",
        "val_dataloader = DataLoader(val_dataset, batch_size=32, shuffle=False)\n",
        "\n",
        "dataset_test = TensorDataset(input_ids_test, attention_mask_test, labels_test)\n",
        "test_dataloader = DataLoader(dataset_test, batch_size=32, shuffle=False)"
      ],
      "metadata": {
        "id": "-NR5pshRKuoW"
      },
      "execution_count": null,
      "outputs": []
    },
    {
      "cell_type": "code",
      "source": [
        "from torch.nn import Dropout\n",
        "# Step 3: Load the pre-trained BERT model for sequence classification\n",
        "model = BertForSequenceClassification.from_pretrained(\"bert-base-multilingual-cased\", num_labels=(len(labels_train)))\n",
        "\n",
        "# Add dropout layer after the BERT model\n",
        "dropout_prob = 0.1  # You can adjust the dropout rate as needed\n",
        "model.bert.config.hidden_dropout_prob = dropout_prob\n",
        "model.dropout = Dropout(dropout_prob)\n",
        "\n",
        "# Step 4: Fine-tuning\n",
        "device = torch.device(\"cuda\" if torch.cuda.is_available() else \"cpu\")\n",
        "model.to(device)\n",
        "\n",
        "# Add weight decay (L2 regularization) to the optimizer\n",
        "optimizer = torch.optim.AdamW(model.parameters(), lr=2e-5, weight_decay=0.01)\n",
        "loss_fn = torch.nn.CrossEntropyLoss()"
      ],
      "metadata": {
        "colab": {
          "base_uri": "https://localhost:8080/",
          "height": 132,
          "referenced_widgets": [
            "8c9b42e7007442e2aa6047ffb769d1f2",
            "7b1d513cfb874fb6a32d9b48e4272b70",
            "1a6403b8e36f4c7d9b3c3ea8a3cb9e2b",
            "d84485ae988149cf8bc9ae3468dfe889",
            "e616a18f6dab48f69f1220bca7a3134b",
            "6c1e047090754152a5e9ea001082ead7",
            "9ff1176d30cd430f8ce6c76f4edae5fe",
            "591ca58ffaa74c5b8915ae73aeb198d3",
            "e992c4ae03984d0ea84e2dea9da4558a",
            "d6383b3102f44dbb8dbf9a769decebd9",
            "cbc8343871cd4eddacf5fd4b10fe6803"
          ]
        },
        "outputId": "f4ab5568-a09c-4b82-a09b-cc00ae29e7db",
        "id": "NUU0isQqM3nf"
      },
      "execution_count": null,
      "outputs": [
        {
          "output_type": "display_data",
          "data": {
            "text/plain": [
              "Downloading model.safetensors:   0%|          | 0.00/714M [00:00<?, ?B/s]"
            ],
            "application/vnd.jupyter.widget-view+json": {
              "version_major": 2,
              "version_minor": 0,
              "model_id": "8c9b42e7007442e2aa6047ffb769d1f2"
            }
          },
          "metadata": {}
        },
        {
          "output_type": "stream",
          "name": "stderr",
          "text": [
            "Some weights of BertForSequenceClassification were not initialized from the model checkpoint at bert-base-multilingual-cased and are newly initialized: ['classifier.weight', 'classifier.bias']\n",
            "You should probably TRAIN this model on a down-stream task to be able to use it for predictions and inference.\n"
          ]
        }
      ]
    },
    {
      "cell_type": "markdown",
      "source": [
        "**Intializing BERT multlingual model with Cross entroply loss function**"
      ],
      "metadata": {
        "id": "xIrmS4Qo4H9E"
      }
    },
    {
      "cell_type": "code",
      "source": [
        "# Step 3: Load the pre-trained BERT model for sequence classification\n",
        "model = BertForSequenceClassification.from_pretrained(\"bert-base-multilingual-cased\", num_labels=(len(labels_train)))\n",
        "\n",
        "# Step 4: Fine-tuning\n",
        "device = torch.device(\"cuda\" if torch.cuda.is_available() else \"cpu\")\n",
        "model.to(device)\n",
        "\n",
        "optimizer = torch.optim.AdamW(model.parameters(), lr=2e-5, weight_decay=0.01)\n",
        "loss_fn = torch.nn.CrossEntropyLoss()\n",
        "\n",
        "# Training loop\n",
        "num_epochs = 10\n",
        "batch_size = 32\n",
        "gradient_accumulation_steps = 2\n",
        "num_train_steps = len(train_dataloader) // gradient_accumulation_steps\n",
        "num_warmup_steps = int(0.1 * num_train_steps)\n",
        "\n",
        "scheduler = torch.optim.lr_scheduler.CosineAnnealingLR(optimizer, T_max=num_epochs * num_train_steps)\n",
        "\n",
        "train_losses = []\n",
        "train_accuracies = []\n",
        "val_losses = []\n",
        "val_accuracies = []\n",
        "\n",
        "best_val_loss = float(\"inf\")\n",
        "patience = 2\n",
        "no_improvement = 0\n",
        "\n",
        "for epoch in range(num_epochs):\n",
        "    model.train()\n",
        "    total_loss = 0\n",
        "    correct_predictions = 0\n",
        "    total_predictions = 0\n",
        "\n",
        "    for step, batch in enumerate(train_dataloader):\n",
        "        batch = tuple(t.to(device) for t in batch)\n",
        "        input_ids, attention_mask, labels = batch\n",
        "\n",
        "        outputs = model(input_ids=input_ids, attention_mask=attention_mask, labels=labels)\n",
        "        loss = outputs.loss\n",
        "        total_loss += loss.item()\n",
        "\n",
        "        loss = loss / gradient_accumulation_steps\n",
        "        loss.backward()\n",
        "\n",
        "        if (step + 1) % gradient_accumulation_steps == 0:\n",
        "            torch.nn.utils.clip_grad_norm_(model.parameters(), 1.0)  # Optional gradient clipping\n",
        "            optimizer.step()\n",
        "            optimizer.zero_grad()\n",
        "            scheduler.step()\n",
        "\n",
        "        # Calculate training accuracy\n",
        "        logits = outputs.logits\n",
        "        predicted_labels = torch.argmax(logits, dim=1)\n",
        "        correct_predictions += (predicted_labels == labels).sum().item()\n",
        "        total_predictions += labels.size(0)\n",
        "\n",
        "    average_loss = total_loss / len(train_dataloader) * gradient_accumulation_steps\n",
        "    train_losses.append(average_loss)\n",
        "    train_accuracy = correct_predictions / total_predictions\n",
        "    train_accuracies.append(train_accuracy)\n",
        "\n",
        "    # Validation loop\n",
        "    model.eval()\n",
        "    val_loss = 0\n",
        "    val_correct_predictions = 0\n",
        "    val_total_predictions = 0\n",
        "\n",
        "    with torch.no_grad():\n",
        "        for batch in val_dataloader:\n",
        "            batch = tuple(t.to(device) for t in batch)\n",
        "            input_ids, attention_mask, labels = batch\n",
        "\n",
        "            outputs = model(input_ids=input_ids, attention_mask=attention_mask, labels=labels)\n",
        "            loss = outputs.loss\n",
        "            val_loss += loss.item()\n",
        "\n",
        "            # Calculate validation accuracy\n",
        "            logits = outputs.logits\n",
        "            predicted_labels = torch.argmax(logits, dim=1)\n",
        "            val_correct_predictions += (predicted_labels == labels).sum().item()\n",
        "            val_total_predictions += labels.size(0)\n",
        "\n",
        "    average_val_loss = val_loss / len(val_dataloader)\n",
        "    val_losses.append(average_val_loss)\n",
        "    val_accuracy = val_correct_predictions / val_total_predictions\n",
        "    val_accuracies.append(val_accuracy)\n",
        "\n",
        "    print(f\"Epoch {epoch+1}/{num_epochs}, Train Loss: {average_loss:.4f}, Train Accuracy: {train_accuracy:.4f}, \"\n",
        "          f\"Validation Loss: {average_val_loss:.4f}, Validation Accuracy: {val_accuracy:.4f}\")\n",
        "\n",
        "    # Early Stopping\n",
        "    if average_val_loss < best_val_loss:\n",
        "        best_val_loss = average_val_loss\n",
        "        no_improvement = 0\n",
        "    else:\n",
        "        no_improvement += 1\n",
        "\n",
        "    if no_improvement >= patience:\n",
        "        print(\"No improvement on validation set. Finish training.\")\n",
        "        break"
      ],
      "metadata": {
        "colab": {
          "base_uri": "https://localhost:8080/"
        },
        "outputId": "b3331f7a-7ee6-4103-ada5-6414170c58fd",
        "id": "UjRiVUStqFms"
      },
      "execution_count": null,
      "outputs": [
        {
          "output_type": "stream",
          "name": "stderr",
          "text": [
            "Some weights of BertForSequenceClassification were not initialized from the model checkpoint at bert-base-multilingual-cased and are newly initialized: ['classifier.bias', 'classifier.weight']\n",
            "You should probably TRAIN this model on a down-stream task to be able to use it for predictions and inference.\n"
          ]
        },
        {
          "output_type": "stream",
          "name": "stdout",
          "text": [
            "Epoch 1/10, Train Loss: 8.5782, Train Accuracy: 0.6588, Validation Loss: 1.6089, Validation Accuracy: 0.6701\n",
            "Epoch 2/10, Train Loss: 1.8724, Train Accuracy: 0.6877, Validation Loss: 0.6247, Validation Accuracy: 0.6940\n",
            "Epoch 3/10, Train Loss: 1.1150, Train Accuracy: 0.7395, Validation Loss: 0.5777, Validation Accuracy: 0.7349\n",
            "Epoch 4/10, Train Loss: 0.9013, Train Accuracy: 0.8009, Validation Loss: 0.6014, Validation Accuracy: 0.7334\n",
            "Epoch 5/10, Train Loss: 0.7625, Train Accuracy: 0.8345, Validation Loss: 0.5771, Validation Accuracy: 0.7431\n",
            "Epoch 6/10, Train Loss: 0.6659, Train Accuracy: 0.8574, Validation Loss: 0.6099, Validation Accuracy: 0.7394\n",
            "Epoch 7/10, Train Loss: 0.5848, Train Accuracy: 0.8754, Validation Loss: 0.6805, Validation Accuracy: 0.7386\n",
            "No improvement on validation set. Finish training.\n"
          ]
        }
      ]
    },
    {
      "cell_type": "code",
      "source": [
        "from sklearn.metrics import classification_report\n",
        "from sklearn.metrics import classification_report, confusion_matrix\n",
        "\n",
        "\n",
        "model.eval()\n",
        "model.to(device)\n",
        "\n",
        "# Initialize evaluation metrics\n",
        "predictions = []\n",
        "true_labels = []\n",
        "\n",
        "# Evaluate on the test data\n",
        "with torch.no_grad():\n",
        "    for batch in test_dataloader:\n",
        "        batch = tuple(t.to(device) for t in batch)\n",
        "        inputs = {\"input_ids\": batch[0], \"attention_mask\": batch[1], \"labels\": batch[2]}\n",
        "        outputs = model(**inputs)\n",
        "        logits = outputs.logits\n",
        "        predicted_labels = torch.argmax(logits, dim=1)\n",
        "\n",
        "        predictions.extend(predicted_labels.cpu().numpy())\n",
        "        true_labels.extend(inputs[\"labels\"].cpu().numpy())\n",
        "\n",
        "# Calculate evaluation metrics\n",
        "accuracy = accuracy_score(true_labels, predictions)\n",
        "precision = precision_score(true_labels, predictions, average=\"macro\")\n",
        "recall = recall_score(true_labels, predictions, average=\"macro\")\n",
        "f1 = f1_score(true_labels, predictions, average=\"macro\")\n",
        "\n",
        "print(f\"Accuracy: {accuracy:.4f}\")\n",
        "print(f\"Precision: {precision:.4f}\")\n",
        "print(f\"Recall: {recall:.4f}\")\n",
        "print(f\"F1-score: {f1:.4f}\")\n",
        "\n",
        "# Print the classification report\n",
        "target_names = [\"2\", \"3\"]  # Replace with your actual class names\n",
        "print(classification_report(true_labels, predictions, target_names=target_names))\n",
        "\n",
        "# Print the confusion matrix\n",
        "conf_matrix = confusion_matrix(true_labels, predictions)\n",
        "print(\"Confusion Matrix:\")\n",
        "print(conf_matrix)"
      ],
      "metadata": {
        "colab": {
          "base_uri": "https://localhost:8080/"
        },
        "outputId": "3fbf2718-86f9-440c-b647-1537d41e0307",
        "id": "jbPQXAL4ufXG"
      },
      "execution_count": null,
      "outputs": [
        {
          "output_type": "stream",
          "name": "stdout",
          "text": [
            "Accuracy: 0.6504\n",
            "Precision: 0.6486\n",
            "Recall: 0.6035\n",
            "F1-score: 0.5939\n",
            "              precision    recall  f1-score   support\n",
            "\n",
            "           2       0.65      0.34      0.44       692\n",
            "           3       0.65      0.87      0.75       987\n",
            "\n",
            "    accuracy                           0.65      1679\n",
            "   macro avg       0.65      0.60      0.59      1679\n",
            "weighted avg       0.65      0.65      0.62      1679\n",
            "\n",
            "Confusion Matrix:\n",
            "[[233 459]\n",
            " [128 859]]\n"
          ]
        }
      ]
    },
    {
      "cell_type": "markdown",
      "source": [
        "**Confusion Matrix**"
      ],
      "metadata": {
        "id": "Ayg2KfEZ4T2a"
      }
    },
    {
      "cell_type": "code",
      "source": [
        "import seaborn as sns\n",
        "\n",
        "# Print the confusion matrix\n",
        "conf_matrix = confusion_matrix(true_labels, predictions)\n",
        "print(\"Confusion Matrix:\")\n",
        "print(conf_matrix)\n",
        "\n",
        "# Plot the confusion matrix as a heatmap\n",
        "plt.figure(figsize=(8, 6))\n",
        "sns.heatmap(conf_matrix, annot=True, fmt='d', cmap='Blues', xticklabels=target_names, yticklabels=target_names)\n",
        "plt.xlabel('Predicted Labels')\n",
        "plt.ylabel('True Labels')\n",
        "plt.title('Confusion Matrix')\n",
        "plt.show()\n",
        "\n"
      ],
      "metadata": {
        "colab": {
          "base_uri": "https://localhost:8080/",
          "height": 599
        },
        "outputId": "d29fd0d9-49ff-445d-b501-f184fb071d41",
        "id": "HaC7Sn0WulK0"
      },
      "execution_count": null,
      "outputs": [
        {
          "output_type": "stream",
          "name": "stdout",
          "text": [
            "Confusion Matrix:\n",
            "[[233 459]\n",
            " [128 859]]\n"
          ]
        },
        {
          "output_type": "display_data",
          "data": {
            "text/plain": [
              "<Figure size 800x600 with 2 Axes>"
            ],
            "image/png": "[encoded data removed]"
          },
          "metadata": {}
        }
      ]
    },
    {
      "cell_type": "markdown",
      "source": [
        "**Intializing BERT mulltingual model by assigning different weight to the labels**"
      ],
      "metadata": {
        "id": "fynQR9Zp4bi2"
      }
    },
    {
      "cell_type": "code",
      "source": [
        "# Step 2: Load the pre-trained BERT model for sequence classification\n",
        "model = BertForSequenceClassification.from_pretrained(\"bert-base-multilingual-cased\", num_labels=len(labels_train))\n",
        "\n",
        "# Step 3: Fine-tuning\n",
        "device = torch.device(\"cuda\" if torch.cuda.is_available() else \"cpu\")\n",
        "model.to(device)\n",
        "\n",
        "optimizer = torch.optim.AdamW(model.parameters(), lr=2e-5, weight_decay=0.01)\n",
        "\n",
        "# Calculate class weights manually (higher weight for class 2, the minority class)\n",
        "total_samples = len(labels_train)\n",
        "class_2_count = torch.sum(labels_train == 2)\n",
        "class_3_count = torch.sum(labels_train == 3)\n",
        "\n",
        "class_2_weight = total_samples / (2.0 * class_2_count)\n",
        "class_3_weight = total_samples / (2.0 * class_3_count)\n",
        "class_2_weight *= 2\n",
        "\n",
        "# Convert to tensor and move to the same device as the model\n",
        "class_weights = torch.tensor([class_2_weight, class_3_weight]).to(device)\n",
        "\n",
        "loss_fn = torch.nn.CrossEntropyLoss(weight=class_weights)  # Use class weights in the loss function\n",
        "\n",
        "# Training loop\n",
        "num_epochs = 10\n",
        "gradient_accumulation_steps = 2\n",
        "num_train_steps = len(train_dataloader) // gradient_accumulation_steps\n",
        "num_warmup_steps = int(0.1 * num_train_steps)\n",
        "\n",
        "scheduler = torch.optim.lr_scheduler.CosineAnnealingLR(optimizer, T_max=num_epochs * num_train_steps)\n",
        "\n",
        "train_losses = []\n",
        "train_accuracies = []\n",
        "val_losses = []\n",
        "val_accuracies = []\n",
        "\n",
        "best_val_loss = float(\"inf\")\n",
        "patience = 2\n",
        "no_improvement = 0\n",
        "\n",
        "for epoch in range(num_epochs):\n",
        "    model.train()\n",
        "    total_loss = 0\n",
        "    correct_predictions = 0\n",
        "    total_predictions = 0\n",
        "\n",
        "    for step, batch in enumerate(train_dataloader):\n",
        "        batch = tuple(t.to(device) for t in batch)\n",
        "        input_ids, attention_mask, labels = batch\n",
        "\n",
        "        outputs = model(input_ids=input_ids, attention_mask=attention_mask, labels=labels)\n",
        "        loss = outputs.loss\n",
        "        total_loss += loss.item()\n",
        "\n",
        "        loss = loss / gradient_accumulation_steps\n",
        "        loss.backward()\n",
        "\n",
        "        if (step + 1) % gradient_accumulation_steps == 0:\n",
        "            torch.nn.utils.clip_grad_norm_(model.parameters(), 1.0)  # Optional gradient clipping\n",
        "            optimizer.step()\n",
        "            optimizer.zero_grad()\n",
        "            scheduler.step()\n",
        "\n",
        "        # Calculate training accuracy\n",
        "        logits = outputs.logits\n",
        "        predicted_labels = torch.argmax(logits, dim=1)\n",
        "        correct_predictions += (predicted_labels == labels).sum().item()\n",
        "        total_predictions += labels.size(0)\n",
        "\n",
        "    average_loss = total_loss / len(train_dataloader) * gradient_accumulation_steps\n",
        "    train_losses.append(average_loss)\n",
        "    train_accuracy = correct_predictions / total_predictions\n",
        "    train_accuracies.append(train_accuracy)\n",
        "\n",
        "    # Validation loop\n",
        "    model.eval()\n",
        "    val_loss = 0\n",
        "    val_correct_predictions = 0\n",
        "    val_total_predictions = 0\n",
        "\n",
        "    with torch.no_grad():\n",
        "        for batch in val_dataloader:\n",
        "            batch = tuple(t.to(device) for t in batch)\n",
        "            input_ids, attention_mask, labels = batch\n",
        "\n",
        "            outputs = model(input_ids=input_ids, attention_mask=attention_mask, labels=labels)\n",
        "            loss = outputs.loss\n",
        "            val_loss += loss.item()\n",
        "\n",
        "            # Calculate validation accuracy\n",
        "            logits = outputs.logits\n",
        "            predicted_labels = torch.argmax(logits, dim=1)\n",
        "            val_correct_predictions += (predicted_labels == labels).sum().item()\n",
        "            val_total_predictions += labels.size(0)\n",
        "\n",
        "    average_val_loss = val_loss / len(val_dataloader)\n",
        "    val_losses.append(average_val_loss)\n",
        "    val_accuracy = val_correct_predictions / val_total_predictions\n",
        "    val_accuracies.append(val_accuracy)\n",
        "\n",
        "    print(f\"Epoch {epoch+1}/{num_epochs}, Train Loss: {average_loss:.4f}, Train Accuracy: {train_accuracy:.4f}, \"\n",
        "          f\"Validation Loss: {average_val_loss:.4f}, Validation Accuracy: {val_accuracy:.4f}\")\n",
        "\n",
        "    # Early Stopping\n",
        "    if average_val_loss < best_val_loss:\n",
        "        best_val_loss = average_val_loss\n",
        "        no_improvement = 0\n",
        "    else:\n",
        "        no_improvement += 1\n",
        "\n",
        "    if no_improvement >= patience:\n",
        "        print(\"No improvement on the validation set. Finish training.\")\n",
        "        break\n"
      ],
      "metadata": {
        "colab": {
          "base_uri": "https://localhost:8080/"
        },
        "id": "WJd2kGItHbVr",
        "outputId": "7f9e27e0-1624-4f94-aa88-2ea70afe08f3"
      },
      "execution_count": null,
      "outputs": [
        {
          "output_type": "stream",
          "name": "stderr",
          "text": [
            "Some weights of BertForSequenceClassification were not initialized from the model checkpoint at bert-base-multilingual-cased and are newly initialized: ['classifier.weight', 'classifier.bias']\n",
            "You should probably TRAIN this model on a down-stream task to be able to use it for predictions and inference.\n"
          ]
        },
        {
          "output_type": "stream",
          "name": "stdout",
          "text": [
            "Epoch 1/10, Train Loss: 8.4635, Train Accuracy: 0.6594, Validation Loss: 1.5868, Validation Accuracy: 0.6858\n",
            "Epoch 2/10, Train Loss: 1.9213, Train Accuracy: 0.6804, Validation Loss: 0.6332, Validation Accuracy: 0.6858\n",
            "Epoch 3/10, Train Loss: 1.1565, Train Accuracy: 0.7223, Validation Loss: 0.5353, Validation Accuracy: 0.7558\n",
            "Epoch 4/10, Train Loss: 0.9669, Train Accuracy: 0.7804, Validation Loss: 0.5681, Validation Accuracy: 0.7550\n",
            "Epoch 5/10, Train Loss: 0.8396, Train Accuracy: 0.8112, Validation Loss: 0.5376, Validation Accuracy: 0.7558\n",
            "No improvement on the validation set. Finish training.\n"
          ]
        }
      ]
    },
    {
      "cell_type": "code",
      "source": [
        "from sklearn.metrics import classification_report\n",
        "from sklearn.metrics import classification_report, confusion_matrix\n",
        "\n",
        "\n",
        "model.eval()\n",
        "model.to(device)\n",
        "\n",
        "# Initialize evaluation metrics\n",
        "predictions = []\n",
        "true_labels = []\n",
        "\n",
        "# Evaluate on the test data\n",
        "with torch.no_grad():\n",
        "    for batch in test_dataloader:\n",
        "        batch = tuple(t.to(device) for t in batch)\n",
        "        inputs = {\"input_ids\": batch[0], \"attention_mask\": batch[1], \"labels\": batch[2]}\n",
        "        outputs = model(**inputs)\n",
        "        logits = outputs.logits\n",
        "        predicted_labels = torch.argmax(logits, dim=1)\n",
        "\n",
        "        predictions.extend(predicted_labels.cpu().numpy())\n",
        "        true_labels.extend(inputs[\"labels\"].cpu().numpy())\n",
        "\n",
        "# Calculate evaluation metrics\n",
        "accuracy = accuracy_score(true_labels, predictions)\n",
        "precision = precision_score(true_labels, predictions, average=\"macro\")\n",
        "recall = recall_score(true_labels, predictions, average=\"macro\")\n",
        "f1 = f1_score(true_labels, predictions, average=\"macro\")\n",
        "\n",
        "print(f\"Accuracy: {accuracy:.4f}\")\n",
        "print(f\"Precision: {precision:.4f}\")\n",
        "print(f\"Recall: {recall:.4f}\")\n",
        "print(f\"F1-score: {f1:.4f}\")\n",
        "\n",
        "# Print the classification report\n",
        "target_names = [\"2\", \"3\"]  # Replace with your actual class names\n",
        "print(classification_report(true_labels, predictions, target_names=target_names))\n",
        "\n",
        "# Print the confusion matrix\n",
        "conf_matrix = confusion_matrix(true_labels, predictions)\n",
        "print(\"Confusion Matrix:\")\n",
        "print(conf_matrix)"
      ],
      "metadata": {
        "colab": {
          "base_uri": "https://localhost:8080/"
        },
        "outputId": "e02a8d55-e0db-46ff-cdf7-58edbee78321",
        "id": "RGfeJUbyMTOy"
      },
      "execution_count": null,
      "outputs": [
        {
          "output_type": "stream",
          "name": "stdout",
          "text": [
            "Accuracy: 0.6808\n",
            "Precision: 0.6920\n",
            "Recall: 0.6356\n",
            "F1-score: 0.6305\n",
            "              precision    recall  f1-score   support\n",
            "\n",
            "           2       0.71      0.38      0.49       692\n",
            "           3       0.67      0.89      0.77       987\n",
            "\n",
            "    accuracy                           0.68      1679\n",
            "   macro avg       0.69      0.64      0.63      1679\n",
            "weighted avg       0.69      0.68      0.65      1679\n",
            "\n",
            "Confusion Matrix:\n",
            "[[262 430]\n",
            " [106 881]]\n"
          ]
        }
      ]
    },
    {
      "cell_type": "markdown",
      "source": [
        "**Confusion Matrix when class weight assigned**"
      ],
      "metadata": {
        "id": "4wIEtTFw4vvT"
      }
    },
    {
      "cell_type": "code",
      "source": [
        "import seaborn as sns\n",
        "\n",
        "# Print the confusion matrix\n",
        "conf_matrix = confusion_matrix(true_labels, predictions)\n",
        "print(\"Confusion Matrix:\")\n",
        "print(conf_matrix)\n",
        "\n",
        "# Plot the confusion matrix as a heatmap\n",
        "plt.figure(figsize=(8, 6))\n",
        "sns.heatmap(conf_matrix, annot=True, fmt='d', cmap='Blues', xticklabels=target_names, yticklabels=target_names)\n",
        "plt.xlabel('Predicted Labels')\n",
        "plt.ylabel('True Labels')\n",
        "plt.title('Confusion Matrix')\n",
        "plt.show()\n",
        "\n"
      ],
      "metadata": {
        "colab": {
          "base_uri": "https://localhost:8080/",
          "height": 599
        },
        "id": "iQcVdTlvSGpS",
        "outputId": "53c06f13-e260-49b9-cbf3-f99212d2cb3e"
      },
      "execution_count": null,
      "outputs": [
        {
          "output_type": "stream",
          "name": "stdout",
          "text": [
            "Confusion Matrix:\n",
            "[[262 430]\n",
            " [106 881]]\n"
          ]
        },
        {
          "output_type": "display_data",
          "data": {
            "text/plain": [
              "<Figure size 800x600 with 2 Axes>"
            ],
            "image/png": "[encoded data removed]"
          },
          "metadata": {}
        }
      ]
    },
    {
      "cell_type": "markdown",
      "source": [
        "**BERT model with Smoothed Cross Entropy loss function**"
      ],
      "metadata": {
        "id": "IUoTuUMz47-c"
      }
    },
    {
      "cell_type": "code",
      "source": [
        "class SmoothedCrossEntropyLoss(torch.nn.Module):\n",
        "    def __init__(self, smoothing=0.1, weight=None):\n",
        "        super(SmoothedCrossEntropyLoss, self).__init__()\n",
        "        self.smoothing = smoothing\n",
        "        self.weight = weight\n",
        "\n",
        "    def forward(self, inputs, targets):\n",
        "        log_prob = torch.nn.functional.log_softmax(inputs, dim=-1)\n",
        "        nll_loss = -log_prob.gather(dim=-1, index=targets.unsqueeze(1))\n",
        "        nll_loss = nll_loss.squeeze(1)\n",
        "\n",
        "        smooth_loss = -log_prob.mean(dim=-1)\n",
        "\n",
        "        if self.weight is not None:\n",
        "            nll_loss = nll_loss * self.weight\n",
        "            smooth_loss = smooth_loss * self.weight\n",
        "\n",
        "        loss = (1.0 - self.smoothing) * nll_loss + self.smoothing * smooth_loss\n",
        "        return loss.mean()\n",
        "\n",
        "# Change the loss function to SmoothedCrossEntropyLoss\n",
        "loss_fn = SmoothedCrossEntropyLoss(smoothing=0.1)\n",
        "\n"
      ],
      "metadata": {
        "id": "P84wugVPgJ2U"
      },
      "execution_count": null,
      "outputs": []
    },
    {
      "cell_type": "code",
      "source": [
        "# Step 2: Load the pre-trained BERT model for sequence classification\n",
        "model = BertForSequenceClassification.from_pretrained(\"bert-base-multilingual-cased\", num_labels=len(labels_train))\n",
        "\n",
        "# Step 3: Fine-tuning\n",
        "device = torch.device(\"cuda\" if torch.cuda.is_available() else \"cpu\")\n",
        "model.to(device)\n",
        "\n",
        "optimizer = torch.optim.AdamW(model.parameters(), lr=2e-5, weight_decay=0.01)\n",
        "\n",
        "# Calculate class weights manually (higher weight for class 2, the minority class)\n",
        "total_samples = len(labels_train)\n",
        "class_2_count = torch.sum(labels_train == 2)\n",
        "class_3_count = torch.sum(labels_train == 3)\n",
        "\n",
        "class_2_weight = total_samples / (2.0 * class_2_count)\n",
        "class_3_weight = total_samples / (2.0 * class_3_count)\n",
        "class_2_weight *= 2\n",
        "\n",
        "# Convert to tensor and move to the same device as the model\n",
        "class_weights = torch.tensor([class_2_weight, class_3_weight]).to(device)\n",
        "\n",
        "loss_fn = SmoothedCrossEntropyLoss(smoothing=0.1)\n",
        "\n",
        "\n",
        "# Training loop\n",
        "num_epochs = 10\n",
        "gradient_accumulation_steps = 2\n",
        "num_train_steps = len(train_dataloader) // gradient_accumulation_steps\n",
        "num_warmup_steps = int(0.1 * num_train_steps)\n",
        "\n",
        "scheduler = torch.optim.lr_scheduler.CosineAnnealingLR(optimizer, T_max=num_epochs * num_train_steps)\n",
        "\n",
        "train_losses = []\n",
        "train_accuracies = []\n",
        "val_losses = []\n",
        "val_accuracies = []\n",
        "\n",
        "best_val_loss = float(\"inf\")\n",
        "patience = 2\n",
        "no_improvement = 0\n",
        "\n",
        "for epoch in range(num_epochs):\n",
        "    model.train()\n",
        "    total_loss = 0\n",
        "    correct_predictions = 0\n",
        "    total_predictions = 0\n",
        "\n",
        "    for step, batch in enumerate(train_dataloader):\n",
        "        batch = tuple(t.to(device) for t in batch)\n",
        "        input_ids, attention_mask, labels = batch\n",
        "\n",
        "        outputs = model(input_ids=input_ids, attention_mask=attention_mask, labels=labels)\n",
        "        loss = outputs.loss\n",
        "        total_loss += loss.item()\n",
        "\n",
        "        loss = loss / gradient_accumulation_steps\n",
        "        loss.backward()\n",
        "\n",
        "        if (step + 1) % gradient_accumulation_steps == 0:\n",
        "            torch.nn.utils.clip_grad_norm_(model.parameters(), 1.0)  # Optional gradient clipping\n",
        "            optimizer.step()\n",
        "            optimizer.zero_grad()\n",
        "            scheduler.step()\n",
        "\n",
        "        # Calculate training accuracy\n",
        "        logits = outputs.logits\n",
        "        predicted_labels = torch.argmax(logits, dim=1)\n",
        "        correct_predictions += (predicted_labels == labels).sum().item()\n",
        "        total_predictions += labels.size(0)\n",
        "\n",
        "    average_loss = total_loss / len(train_dataloader) * gradient_accumulation_steps\n",
        "    train_losses.append(average_loss)\n",
        "    train_accuracy = correct_predictions / total_predictions\n",
        "    train_accuracies.append(train_accuracy)\n",
        "\n",
        "    # Validation loop\n",
        "    model.eval()\n",
        "    val_loss = 0\n",
        "    val_correct_predictions = 0\n",
        "    val_total_predictions = 0\n",
        "\n",
        "    with torch.no_grad():\n",
        "        for batch in val_dataloader:\n",
        "            batch = tuple(t.to(device) for t in batch)\n",
        "            input_ids, attention_mask, labels = batch\n",
        "\n",
        "            outputs = model(input_ids=input_ids, attention_mask=attention_mask, labels=labels)\n",
        "            loss = outputs.loss\n",
        "            val_loss += loss.item()\n",
        "\n",
        "            # Calculate validation accuracy\n",
        "            logits = outputs.logits\n",
        "            predicted_labels = torch.argmax(logits, dim=1)\n",
        "            val_correct_predictions += (predicted_labels == labels).sum().item()\n",
        "            val_total_predictions += labels.size(0)\n",
        "\n",
        "    average_val_loss = val_loss / len(val_dataloader)\n",
        "    val_losses.append(average_val_loss)\n",
        "    val_accuracy = val_correct_predictions / val_total_predictions\n",
        "    val_accuracies.append(val_accuracy)\n",
        "\n",
        "    print(f\"Epoch {epoch+1}/{num_epochs}, Train Loss: {average_loss:.4f}, Train Accuracy: {train_accuracy:.4f}, \"\n",
        "          f\"Validation Loss: {average_val_loss:.4f}, Validation Accuracy: {val_accuracy:.4f}\")\n",
        "\n",
        "    # Early Stopping\n",
        "    if average_val_loss < best_val_loss:\n",
        "        best_val_loss = average_val_loss\n",
        "        no_improvement = 0\n",
        "    else:\n",
        "        no_improvement += 1\n",
        "\n",
        "    if no_improvement >= patience:\n",
        "        print(\"No improvement on the validation set. Finish training.\")\n",
        "        break\n"
      ],
      "metadata": {
        "colab": {
          "base_uri": "https://localhost:8080/"
        },
        "outputId": "4cf25b22-cb11-4511-ea5b-8caf49f17201",
        "id": "RiGNSG96gM3I"
      },
      "execution_count": null,
      "outputs": [
        {
          "output_type": "stream",
          "name": "stderr",
          "text": [
            "Some weights of BertForSequenceClassification were not initialized from the model checkpoint at bert-base-multilingual-cased and are newly initialized: ['classifier.weight', 'classifier.bias']\n",
            "You should probably TRAIN this model on a down-stream task to be able to use it for predictions and inference.\n"
          ]
        },
        {
          "output_type": "stream",
          "name": "stdout",
          "text": [
            "Epoch 1/10, Train Loss: 8.3329, Train Accuracy: 0.6549, Validation Loss: 1.4648, Validation Accuracy: 0.6806\n",
            "Epoch 2/10, Train Loss: 1.8125, Train Accuracy: 0.6827, Validation Loss: 0.6520, Validation Accuracy: 0.6806\n",
            "Epoch 3/10, Train Loss: 1.1994, Train Accuracy: 0.7041, Validation Loss: 0.5262, Validation Accuracy: 0.7476\n",
            "Epoch 4/10, Train Loss: 0.9821, Train Accuracy: 0.7832, Validation Loss: 0.5127, Validation Accuracy: 0.7476\n",
            "Epoch 5/10, Train Loss: 0.8490, Train Accuracy: 0.8115, Validation Loss: 0.5071, Validation Accuracy: 0.7669\n",
            "Epoch 6/10, Train Loss: 0.7334, Train Accuracy: 0.8438, Validation Loss: 0.5342, Validation Accuracy: 0.7617\n",
            "Epoch 7/10, Train Loss: 0.6465, Train Accuracy: 0.8654, Validation Loss: 0.5502, Validation Accuracy: 0.7543\n",
            "No improvement on the validation set. Finish training.\n"
          ]
        }
      ]
    },
    {
      "cell_type": "code",
      "source": [
        "from sklearn.metrics import classification_report\n",
        "from sklearn.metrics import classification_report, confusion_matrix\n",
        "\n",
        "\n",
        "model.eval()\n",
        "model.to(device)\n",
        "\n",
        "# Initialize evaluation metrics\n",
        "predictions = []\n",
        "true_labels = []\n",
        "\n",
        "# Evaluate on the test data\n",
        "with torch.no_grad():\n",
        "    for batch in test_dataloader:\n",
        "        batch = tuple(t.to(device) for t in batch)\n",
        "        inputs = {\"input_ids\": batch[0], \"attention_mask\": batch[1], \"labels\": batch[2]}\n",
        "        outputs = model(**inputs)\n",
        "        logits = outputs.logits\n",
        "        predicted_labels = torch.argmax(logits, dim=1)\n",
        "\n",
        "        predictions.extend(predicted_labels.cpu().numpy())\n",
        "        true_labels.extend(inputs[\"labels\"].cpu().numpy())\n",
        "\n",
        "# Calculate evaluation metrics\n",
        "accuracy = accuracy_score(true_labels, predictions)\n",
        "precision = precision_score(true_labels, predictions, average=\"macro\")\n",
        "recall = recall_score(true_labels, predictions, average=\"macro\")\n",
        "f1 = f1_score(true_labels, predictions, average=\"macro\")\n",
        "\n",
        "print(f\"Accuracy: {accuracy:.4f}\")\n",
        "print(f\"Precision: {precision:.4f}\")\n",
        "print(f\"Recall: {recall:.4f}\")\n",
        "print(f\"F1-score: {f1:.4f}\")\n",
        "\n",
        "# Print the classification report\n",
        "target_names = [\"2\", \"3\"]  # Replace with your actual class names\n",
        "print(classification_report(true_labels, predictions, target_names=target_names))\n",
        "\n",
        "# Print the confusion matrix\n",
        "conf_matrix = confusion_matrix(true_labels, predictions)\n",
        "print(\"Confusion Matrix:\")\n",
        "print(conf_matrix)"
      ],
      "metadata": {
        "colab": {
          "base_uri": "https://localhost:8080/"
        },
        "outputId": "90f12d80-5d12-4de8-8060-9be8361f9a80",
        "id": "O1ykWONgk6JN"
      },
      "execution_count": null,
      "outputs": [
        {
          "output_type": "stream",
          "name": "stdout",
          "text": [
            "Accuracy: 0.6617\n",
            "Precision: 0.6686\n",
            "Recall: 0.6134\n",
            "F1-score: 0.6036\n",
            "              precision    recall  f1-score   support\n",
            "\n",
            "           2       0.68      0.34      0.45       692\n",
            "           3       0.66      0.89      0.76       987\n",
            "\n",
            "    accuracy                           0.66      1679\n",
            "   macro avg       0.67      0.61      0.60      1679\n",
            "weighted avg       0.67      0.66      0.63      1679\n",
            "\n",
            "Confusion Matrix:\n",
            "[[234 458]\n",
            " [110 877]]\n"
          ]
        }
      ]
    },
    {
      "cell_type": "markdown",
      "source": [
        "**BERT model with Focal Loss function**"
      ],
      "metadata": {
        "id": "GEyIJjsL5FTQ"
      }
    },
    {
      "cell_type": "code",
      "source": [
        "class FocalLoss(torch.nn.Module):\n",
        "    def __init__(self, alpha=0.25, gamma=2.0):\n",
        "        super(FocalLoss, self).__init__()\n",
        "        self.alpha = alpha\n",
        "        self.gamma = gamma\n",
        "\n",
        "    def forward(self, inputs, targets):\n",
        "        log_prob = torch.nn.functional.log_softmax(inputs, dim=-1)\n",
        "        prob = torch.exp(log_prob)\n",
        "        focal_weight = (self.alpha * targets + (1 - self.alpha) * (1 - targets)) * (1 - prob) ** self.gamma\n",
        "        cross_entropy = -log_prob.gather(dim=-1, index=targets.unsqueeze(1))\n",
        "        loss = focal_weight * cross_entropy\n",
        "        return loss.mean()\n",
        "\n",
        "# Change the loss function to FocalLoss\n",
        "loss_fn = FocalLoss(alpha=0.25, gamma=2.0)\n"
      ],
      "metadata": {
        "id": "kZ_iB5MJjLab"
      },
      "execution_count": null,
      "outputs": []
    },
    {
      "cell_type": "code",
      "source": [
        "# Step 2: Load the pre-trained BERT model for sequence classification\n",
        "model = BertForSequenceClassification.from_pretrained(\"bert-base-multilingual-cased\", num_labels=len(labels_train))\n",
        "\n",
        "# Step 3: Fine-tuning\n",
        "device = torch.device(\"cuda\" if torch.cuda.is_available() else \"cpu\")\n",
        "model.to(device)\n",
        "\n",
        "optimizer = torch.optim.AdamW(model.parameters(), lr=2e-5, weight_decay=0.01)\n",
        "\n",
        "# Calculate class weights manually (higher weight for class 2, the minority class)\n",
        "total_samples = len(labels_train)\n",
        "class_2_count = torch.sum(labels_train == 2)\n",
        "class_3_count = torch.sum(labels_train == 3)\n",
        "\n",
        "class_2_weight = total_samples / (2.0 * class_2_count)\n",
        "class_3_weight = total_samples / (2.0 * class_3_count)\n",
        "class_2_weight *= 2\n",
        "\n",
        "# Convert to tensor and move to the same device as the model\n",
        "class_weights = torch.tensor([class_2_weight, class_3_weight]).to(device)\n",
        "\n",
        "loss_fn = FocalLoss(alpha=0.25, gamma=2.0)\n",
        "\n",
        "# Training loop\n",
        "num_epochs = 10\n",
        "gradient_accumulation_steps = 2\n",
        "num_train_steps = len(train_dataloader) // gradient_accumulation_steps\n",
        "num_warmup_steps = int(0.1 * num_train_steps)\n",
        "\n",
        "scheduler = torch.optim.lr_scheduler.CosineAnnealingLR(optimizer, T_max=num_epochs * num_train_steps)\n",
        "\n",
        "train_losses = []\n",
        "train_accuracies = []\n",
        "val_losses = []\n",
        "val_accuracies = []\n",
        "\n",
        "best_val_loss = float(\"inf\")\n",
        "patience = 2\n",
        "no_improvement = 0\n",
        "\n",
        "for epoch in range(num_epochs):\n",
        "    model.train()\n",
        "    total_loss = 0\n",
        "    correct_predictions = 0\n",
        "    total_predictions = 0\n",
        "\n",
        "    for step, batch in enumerate(train_dataloader):\n",
        "        batch = tuple(t.to(device) for t in batch)\n",
        "        input_ids, attention_mask, labels = batch\n",
        "\n",
        "        outputs = model(input_ids=input_ids, attention_mask=attention_mask, labels=labels)\n",
        "        loss = outputs.loss\n",
        "        total_loss += loss.item()\n",
        "\n",
        "        loss = loss / gradient_accumulation_steps\n",
        "        loss.backward()\n",
        "\n",
        "        if (step + 1) % gradient_accumulation_steps == 0:\n",
        "            torch.nn.utils.clip_grad_norm_(model.parameters(), 1.0)  # Optional gradient clipping\n",
        "            optimizer.step()\n",
        "            optimizer.zero_grad()\n",
        "            scheduler.step()\n",
        "\n",
        "        # Calculate training accuracy\n",
        "        logits = outputs.logits\n",
        "        predicted_labels = torch.argmax(logits, dim=1)\n",
        "        correct_predictions += (predicted_labels == labels).sum().item()\n",
        "        total_predictions += labels.size(0)\n",
        "\n",
        "    average_loss = total_loss / len(train_dataloader) * gradient_accumulation_steps\n",
        "    train_losses.append(average_loss)\n",
        "    train_accuracy = correct_predictions / total_predictions\n",
        "    train_accuracies.append(train_accuracy)\n",
        "\n",
        "    # Validation loop\n",
        "    model.eval()\n",
        "    val_loss = 0\n",
        "    val_correct_predictions = 0\n",
        "    val_total_predictions = 0\n",
        "\n",
        "    with torch.no_grad():\n",
        "        for batch in val_dataloader:\n",
        "            batch = tuple(t.to(device) for t in batch)\n",
        "            input_ids, attention_mask, labels = batch\n",
        "\n",
        "            outputs = model(input_ids=input_ids, attention_mask=attention_mask, labels=labels)\n",
        "            loss = outputs.loss\n",
        "            val_loss += loss.item()\n",
        "\n",
        "            # Calculate validation accuracy\n",
        "            logits = outputs.logits\n",
        "            predicted_labels = torch.argmax(logits, dim=1)\n",
        "            val_correct_predictions += (predicted_labels == labels).sum().item()\n",
        "            val_total_predictions += labels.size(0)\n",
        "\n",
        "    average_val_loss = val_loss / len(val_dataloader)\n",
        "    val_losses.append(average_val_loss)\n",
        "    val_accuracy = val_correct_predictions / val_total_predictions\n",
        "    val_accuracies.append(val_accuracy)\n",
        "\n",
        "    print(f\"Epoch {epoch+1}/{num_epochs}, Train Loss: {average_loss:.4f}, Train Accuracy: {train_accuracy:.4f}, \"\n",
        "          f\"Validation Loss: {average_val_loss:.4f}, Validation Accuracy: {val_accuracy:.4f}\")\n",
        "\n",
        "    # Early Stopping\n",
        "    if average_val_loss < best_val_loss:\n",
        "        best_val_loss = average_val_loss\n",
        "        no_improvement = 0\n",
        "    else:\n",
        "        no_improvement += 1\n",
        "\n",
        "    if no_improvement >= patience:\n",
        "        print(\"No improvement on the validation set. Finish training.\")\n",
        "        break\n"
      ],
      "metadata": {
        "colab": {
          "base_uri": "https://localhost:8080/"
        },
        "outputId": "b2001bb1-50e7-4595-f913-aaa3c6743b04",
        "id": "6tJr3PXXjOVY"
      },
      "execution_count": null,
      "outputs": [
        {
          "output_type": "stream",
          "name": "stderr",
          "text": [
            "Some weights of BertForSequenceClassification were not initialized from the model checkpoint at bert-base-multilingual-cased and are newly initialized: ['classifier.weight', 'classifier.bias']\n",
            "You should probably TRAIN this model on a down-stream task to be able to use it for predictions and inference.\n"
          ]
        },
        {
          "output_type": "stream",
          "name": "stdout",
          "text": [
            "Epoch 1/10, Train Loss: 8.8577, Train Accuracy: 0.6577, Validation Loss: 1.7462, Validation Accuracy: 0.6806\n",
            "Epoch 2/10, Train Loss: 2.0453, Train Accuracy: 0.6875, Validation Loss: 0.6129, Validation Accuracy: 0.7215\n",
            "Epoch 3/10, Train Loss: 1.1657, Train Accuracy: 0.7393, Validation Loss: 0.5511, Validation Accuracy: 0.7446\n",
            "Epoch 4/10, Train Loss: 0.9688, Train Accuracy: 0.7862, Validation Loss: 0.5462, Validation Accuracy: 0.7461\n",
            "Epoch 5/10, Train Loss: 0.8240, Train Accuracy: 0.8266, Validation Loss: 0.5666, Validation Accuracy: 0.7558\n",
            "Epoch 6/10, Train Loss: 0.7201, Train Accuracy: 0.8557, Validation Loss: 0.5524, Validation Accuracy: 0.7610\n",
            "No improvement on the validation set. Finish training.\n"
          ]
        }
      ]
    },
    {
      "cell_type": "code",
      "source": [
        "from sklearn.metrics import classification_report\n",
        "from sklearn.metrics import classification_report, confusion_matrix\n",
        "\n",
        "\n",
        "model.eval()\n",
        "model.to(device)\n",
        "\n",
        "# Initialize evaluation metrics\n",
        "predictions = []\n",
        "true_labels = []\n",
        "\n",
        "# Evaluate on the test data\n",
        "with torch.no_grad():\n",
        "    for batch in test_dataloader:\n",
        "        batch = tuple(t.to(device) for t in batch)\n",
        "        inputs = {\"input_ids\": batch[0], \"attention_mask\": batch[1], \"labels\": batch[2]}\n",
        "        outputs = model(**inputs)\n",
        "        logits = outputs.logits\n",
        "        predicted_labels = torch.argmax(logits, dim=1)\n",
        "\n",
        "        predictions.extend(predicted_labels.cpu().numpy())\n",
        "        true_labels.extend(inputs[\"labels\"].cpu().numpy())\n",
        "\n",
        "# Calculate evaluation metrics\n",
        "accuracy = accuracy_score(true_labels, predictions)\n",
        "precision = precision_score(true_labels, predictions, average=\"macro\")\n",
        "recall = recall_score(true_labels, predictions, average=\"macro\")\n",
        "f1 = f1_score(true_labels, predictions, average=\"macro\")\n",
        "\n",
        "print(f\"Accuracy: {accuracy:.4f}\")\n",
        "print(f\"Precision: {precision:.4f}\")\n",
        "print(f\"Recall: {recall:.4f}\")\n",
        "print(f\"F1-score: {f1:.4f}\")\n",
        "\n",
        "# Print the classification report\n",
        "target_names = [\"2\", \"3\"]  # Replace with your actual class names\n",
        "print(classification_report(true_labels, predictions, target_names=target_names))\n",
        "\n",
        "# Print the confusion matrix\n",
        "conf_matrix = confusion_matrix(true_labels, predictions)\n",
        "print(\"Confusion Matrix:\")\n",
        "print(conf_matrix)"
      ],
      "metadata": {
        "colab": {
          "base_uri": "https://localhost:8080/"
        },
        "outputId": "eab7af02-325e-488d-f875-8de9757661ae",
        "id": "829-3FEIqeo9"
      },
      "execution_count": null,
      "outputs": [
        {
          "output_type": "stream",
          "name": "stdout",
          "text": [
            "Accuracy: 0.6593\n",
            "Precision: 0.6627\n",
            "Recall: 0.6122\n",
            "F1-score: 0.6033\n",
            "              precision    recall  f1-score   support\n",
            "\n",
            "           2       0.67      0.34      0.45       692\n",
            "           3       0.66      0.88      0.75       987\n",
            "\n",
            "    accuracy                           0.66      1679\n",
            "   macro avg       0.66      0.61      0.60      1679\n",
            "weighted avg       0.66      0.66      0.63      1679\n",
            "\n",
            "Confusion Matrix:\n",
            "[[238 454]\n",
            " [118 869]]\n"
          ]
        }
      ]
    },
    {
      "cell_type": "markdown",
      "source": [
        "**BERT model with Binary Loss function**"
      ],
      "metadata": {
        "id": "ZKSi9Alm5MDG"
      }
    },
    {
      "cell_type": "code",
      "source": [
        "class BinaryCrossEntropyLoss(torch.nn.Module):\n",
        "    def __init__(self, weight=None):\n",
        "        super(BinaryCrossEntropyLoss, self).__init__()\n",
        "        self.weight = weight\n",
        "\n",
        "    def forward(self, inputs, targets):\n",
        "        loss_fn = torch.nn.BCEWithLogitsLoss(weight=self.weight)\n",
        "        return loss_fn(inputs.view(-1), targets.view(-1).float())\n",
        "\n",
        "# Use BinaryCrossEntropyLoss as the loss function\n",
        "loss_fn = BinaryCrossEntropyLoss()\n"
      ],
      "metadata": {
        "id": "GRcchCjjjNpV"
      },
      "execution_count": null,
      "outputs": []
    },
    {
      "cell_type": "code",
      "source": [
        "# Step 2: Load the pre-trained BERT model for sequence classification\n",
        "model = BertForSequenceClassification.from_pretrained(\"bert-base-multilingual-cased\", num_labels=len(labels_train))\n",
        "\n",
        "# Step 3: Fine-tuning\n",
        "device = torch.device(\"cuda\" if torch.cuda.is_available() else \"cpu\")\n",
        "model.to(device)\n",
        "\n",
        "optimizer = torch.optim.AdamW(model.parameters(), lr=2e-5, weight_decay=0.01)\n",
        "\n",
        "# Calculate class weights manually (higher weight for class 2, the minority class)\n",
        "total_samples = len(labels_train)\n",
        "class_2_count = torch.sum(labels_train == 2)\n",
        "class_3_count = torch.sum(labels_train == 3)\n",
        "\n",
        "class_2_weight = total_samples / (2.0 * class_2_count)\n",
        "class_3_weight = total_samples / (2.0 * class_3_count)\n",
        "class_2_weight *= 2\n",
        "\n",
        "# Convert to tensor and move to the same device as the model\n",
        "class_weights = torch.tensor([class_2_weight, class_3_weight]).to(device)\n",
        "\n",
        "loss_fn = BinaryCrossEntropyLoss()\n",
        "\n",
        "\n",
        "# Training loop\n",
        "num_epochs = 10\n",
        "gradient_accumulation_steps = 2\n",
        "num_train_steps = len(train_dataloader) // gradient_accumulation_steps\n",
        "num_warmup_steps = int(0.1 * num_train_steps)\n",
        "\n",
        "scheduler = torch.optim.lr_scheduler.CosineAnnealingLR(optimizer, T_max=num_epochs * num_train_steps)\n",
        "\n",
        "train_losses = []\n",
        "train_accuracies = []\n",
        "val_losses = []\n",
        "val_accuracies = []\n",
        "\n",
        "best_val_loss = float(\"inf\")\n",
        "patience = 2\n",
        "no_improvement = 0\n",
        "\n",
        "for epoch in range(num_epochs):\n",
        "    model.train()\n",
        "    total_loss = 0\n",
        "    correct_predictions = 0\n",
        "    total_predictions = 0\n",
        "\n",
        "    for step, batch in enumerate(train_dataloader):\n",
        "        batch = tuple(t.to(device) for t in batch)\n",
        "        input_ids, attention_mask, labels = batch\n",
        "\n",
        "        outputs = model(input_ids=input_ids, attention_mask=attention_mask, labels=labels)\n",
        "        loss = outputs.loss\n",
        "        total_loss += loss.item()\n",
        "\n",
        "        loss = loss / gradient_accumulation_steps\n",
        "        loss.backward()\n",
        "\n",
        "        if (step + 1) % gradient_accumulation_steps == 0:\n",
        "            torch.nn.utils.clip_grad_norm_(model.parameters(), 1.0)  # Optional gradient clipping\n",
        "            optimizer.step()\n",
        "            optimizer.zero_grad()\n",
        "            scheduler.step()\n",
        "\n",
        "        # Calculate training accuracy\n",
        "        logits = outputs.logits\n",
        "        predicted_labels = torch.argmax(logits, dim=1)\n",
        "        correct_predictions += (predicted_labels == labels).sum().item()\n",
        "        total_predictions += labels.size(0)\n",
        "\n",
        "    average_loss = total_loss / len(train_dataloader) * gradient_accumulation_steps\n",
        "    train_losses.append(average_loss)\n",
        "    train_accuracy = correct_predictions / total_predictions\n",
        "    train_accuracies.append(train_accuracy)\n",
        "\n",
        "    # Validation loop\n",
        "    model.eval()\n",
        "    val_loss = 0\n",
        "    val_correct_predictions = 0\n",
        "    val_total_predictions = 0\n",
        "\n",
        "    with torch.no_grad():\n",
        "        for batch in val_dataloader:\n",
        "            batch = tuple(t.to(device) for t in batch)\n",
        "            input_ids, attention_mask, labels = batch\n",
        "\n",
        "            outputs = model(input_ids=input_ids, attention_mask=attention_mask, labels=labels)\n",
        "            loss = outputs.loss\n",
        "            val_loss += loss.item()\n",
        "\n",
        "            # Calculate validation accuracy\n",
        "            logits = outputs.logits\n",
        "            predicted_labels = torch.argmax(logits, dim=1)\n",
        "            val_correct_predictions += (predicted_labels == labels).sum().item()\n",
        "            val_total_predictions += labels.size(0)\n",
        "\n",
        "    average_val_loss = val_loss / len(val_dataloader)\n",
        "    val_losses.append(average_val_loss)\n",
        "    val_accuracy = val_correct_predictions / val_total_predictions\n",
        "    val_accuracies.append(val_accuracy)\n",
        "\n",
        "    print(f\"Epoch {epoch+1}/{num_epochs}, Train Loss: {average_loss:.4f}, Train Accuracy: {train_accuracy:.4f}, \"\n",
        "          f\"Validation Loss: {average_val_loss:.4f}, Validation Accuracy: {val_accuracy:.4f}\")\n",
        "\n",
        "    # Early Stopping\n",
        "    if average_val_loss < best_val_loss:\n",
        "        best_val_loss = average_val_loss\n",
        "        no_improvement = 0\n",
        "    else:\n",
        "        no_improvement += 1\n",
        "\n",
        "    if no_improvement >= patience:\n",
        "        print(\"No improvement on the validation set. Finish training.\")\n",
        "        break\n"
      ],
      "metadata": {
        "colab": {
          "base_uri": "https://localhost:8080/"
        },
        "outputId": "b2001bb1-50e7-4595-f913-aaa3c6743b04",
        "id": "Bwz0C0WBoaFo"
      },
      "execution_count": null,
      "outputs": [
        {
          "output_type": "stream",
          "name": "stderr",
          "text": [
            "Some weights of BertForSequenceClassification were not initialized from the model checkpoint at bert-base-multilingual-cased and are newly initialized: ['classifier.weight', 'classifier.bias']\n",
            "You should probably TRAIN this model on a down-stream task to be able to use it for predictions and inference.\n"
          ]
        },
        {
          "output_type": "stream",
          "name": "stdout",
          "text": [
            "Epoch 1/10, Train Loss: 8.8577, Train Accuracy: 0.6577, Validation Loss: 1.7462, Validation Accuracy: 0.6806\n",
            "Epoch 2/10, Train Loss: 2.0453, Train Accuracy: 0.6875, Validation Loss: 0.6129, Validation Accuracy: 0.7215\n",
            "Epoch 3/10, Train Loss: 1.1657, Train Accuracy: 0.7393, Validation Loss: 0.5511, Validation Accuracy: 0.7446\n"
          ]
        }
      ]
    }
  ]
}