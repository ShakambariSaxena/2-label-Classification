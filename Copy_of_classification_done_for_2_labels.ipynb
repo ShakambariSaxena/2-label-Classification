{
  "nbformat": 4,
  "nbformat_minor": 0,
  "metadata": {
    "colab": {
      "provenance": [],
      "authorship_tag": "ABX9TyOHiAIBwSQpSUPmmCLwbY7o",
      "include_colab_link": true
    },
    "kernelspec": {
      "name": "python3",
      "display_name": "Python 3"
    },
    "language_info": {
      "name": "python"
    }
  },
  "cells": [
    {
      "cell_type": "markdown",
      "metadata": {
        "id": "view-in-github",
        "colab_type": "text"
      },
      "source": [
        "<a href=\"https://colab.research.google.com/github/ShakambariSaxena/2-label-Classification/blob/main/Copy_of_classification_done_for_2_labels.ipynb\" target=\"_parent\"><img src=\"https://colab.research.google.com/assets/colab-badge.svg\" alt=\"Open In Colab\"/></a>"
      ]
    },
    {
      "cell_type": "markdown",
      "source": [
        "**Installing libraries**"
      ],
      "metadata": {
        "id": "1hGBYta-smRR"
      }
    },
    {
      "cell_type": "code",
      "execution_count": null,
      "metadata": {
        "colab": {
          "base_uri": "https://localhost:8080/"
        },
        "id": "KSUhAztQVX5p",
        "outputId": "5d827ad1-fb55-4218-f5cf-3e66240aedcd"
      },
      "outputs": [
        {
          "output_type": "stream",
          "name": "stdout",
          "text": [
            "Requirement already satisfied: nltk in /usr/local/lib/python3.10/dist-packages (3.8.1)\n",
            "Requirement already satisfied: click in /usr/local/lib/python3.10/dist-packages (from nltk) (8.1.6)\n",
            "Requirement already satisfied: joblib in /usr/local/lib/python3.10/dist-packages (from nltk) (1.3.1)\n",
            "Requirement already satisfied: regex>=2021.8.3 in /usr/local/lib/python3.10/dist-packages (from nltk) (2022.10.31)\n",
            "Requirement already satisfied: tqdm in /usr/local/lib/python3.10/dist-packages (from nltk) (4.65.0)\n",
            "Requirement already satisfied: gensim in /usr/local/lib/python3.10/dist-packages (4.3.1)\n",
            "Requirement already satisfied: numpy>=1.18.5 in /usr/local/lib/python3.10/dist-packages (from gensim) (1.22.4)\n",
            "Requirement already satisfied: scipy>=1.7.0 in /usr/local/lib/python3.10/dist-packages (from gensim) (1.10.1)\n",
            "Requirement already satisfied: smart-open>=1.8.1 in /usr/local/lib/python3.10/dist-packages (from gensim) (6.3.0)\n",
            "Requirement already satisfied: scikit-learn in /usr/local/lib/python3.10/dist-packages (1.2.2)\n",
            "Requirement already satisfied: numpy>=1.17.3 in /usr/local/lib/python3.10/dist-packages (from scikit-learn) (1.22.4)\n",
            "Requirement already satisfied: scipy>=1.3.2 in /usr/local/lib/python3.10/dist-packages (from scikit-learn) (1.10.1)\n",
            "Requirement already satisfied: joblib>=1.1.1 in /usr/local/lib/python3.10/dist-packages (from scikit-learn) (1.3.1)\n",
            "Requirement already satisfied: threadpoolctl>=2.0.0 in /usr/local/lib/python3.10/dist-packages (from scikit-learn) (3.2.0)\n"
          ]
        }
      ],
      "source": [
        "!pip install nltk\n",
        "!pip install gensim\n",
        "!pip install scikit-learn\n"
      ]
    },
    {
      "cell_type": "code",
      "source": [
        "import tensorflow as tf\n",
        "from tensorflow import keras"
      ],
      "metadata": {
        "id": "rhUbWLflVZ24"
      },
      "execution_count": null,
      "outputs": []
    },
    {
      "cell_type": "code",
      "source": [
        "import nltk\n",
        "!python -m nltk.downloader popular\n",
        "nltk.download('punkt')\n",
        "nltk.download('stopwords')\n",
        "nltk.download('wordnet')\n",
        "!pip install imbalanced-learn"
      ],
      "metadata": {
        "colab": {
          "base_uri": "https://localhost:8080/"
        },
        "id": "mnQ-HL4kVd9j",
        "outputId": "a95affdb-5c28-400e-ff06-12a0b23a3e83"
      },
      "execution_count": null,
      "outputs": [
        {
          "output_type": "stream",
          "name": "stdout",
          "text": [
            "/usr/lib/python3.10/runpy.py:126: RuntimeWarning: 'nltk.downloader' found in sys.modules after import of package 'nltk', but prior to execution of 'nltk.downloader'; this may result in unpredictable behaviour\n",
            "  warn(RuntimeWarning(msg))\n",
            "[nltk_data] Downloading collection 'popular'\n",
            "[nltk_data]    | \n",
            "[nltk_data]    | Downloading package cmudict to /root/nltk_data...\n",
            "[nltk_data]    |   Unzipping corpora/cmudict.zip.\n",
            "[nltk_data]    | Downloading package gazetteers to /root/nltk_data...\n",
            "[nltk_data]    |   Unzipping corpora/gazetteers.zip.\n",
            "[nltk_data]    | Downloading package genesis to /root/nltk_data...\n",
            "[nltk_data]    |   Unzipping corpora/genesis.zip.\n",
            "[nltk_data]    | Downloading package gutenberg to /root/nltk_data...\n",
            "[nltk_data]    |   Unzipping corpora/gutenberg.zip.\n",
            "[nltk_data]    | Downloading package inaugural to /root/nltk_data...\n",
            "[nltk_data]    |   Unzipping corpora/inaugural.zip.\n",
            "[nltk_data]    | Downloading package movie_reviews to\n",
            "[nltk_data]    |     /root/nltk_data...\n",
            "[nltk_data]    |   Unzipping corpora/movie_reviews.zip.\n",
            "[nltk_data]    | Downloading package names to /root/nltk_data...\n",
            "[nltk_data]    |   Unzipping corpora/names.zip.\n",
            "[nltk_data]    | Downloading package shakespeare to /root/nltk_data...\n",
            "[nltk_data]    |   Unzipping corpora/shakespeare.zip.\n",
            "[nltk_data]    | Downloading package stopwords to /root/nltk_data...\n",
            "[nltk_data]    |   Unzipping corpora/stopwords.zip.\n",
            "[nltk_data]    | Downloading package treebank to /root/nltk_data...\n",
            "[nltk_data]    |   Unzipping corpora/treebank.zip.\n",
            "[nltk_data]    | Downloading package twitter_samples to\n",
            "[nltk_data]    |     /root/nltk_data...\n",
            "[nltk_data]    |   Unzipping corpora/twitter_samples.zip.\n",
            "[nltk_data]    | Downloading package omw to /root/nltk_data...\n",
            "[nltk_data]    | Downloading package omw-1.4 to /root/nltk_data...\n",
            "[nltk_data]    | Downloading package wordnet to /root/nltk_data...\n",
            "[nltk_data]    | Downloading package wordnet2021 to /root/nltk_data...\n",
            "[nltk_data]    | Downloading package wordnet31 to /root/nltk_data...\n",
            "[nltk_data]    | Downloading package wordnet_ic to /root/nltk_data...\n",
            "[nltk_data]    |   Unzipping corpora/wordnet_ic.zip.\n",
            "[nltk_data]    | Downloading package words to /root/nltk_data...\n",
            "[nltk_data]    |   Unzipping corpora/words.zip.\n",
            "[nltk_data]    | Downloading package maxent_ne_chunker to\n",
            "[nltk_data]    |     /root/nltk_data...\n",
            "[nltk_data]    |   Unzipping chunkers/maxent_ne_chunker.zip.\n",
            "[nltk_data]    | Downloading package punkt to /root/nltk_data...\n",
            "[nltk_data]    |   Unzipping tokenizers/punkt.zip.\n",
            "[nltk_data]    | Downloading package snowball_data to\n",
            "[nltk_data]    |     /root/nltk_data...\n",
            "[nltk_data]    | Downloading package averaged_perceptron_tagger to\n",
            "[nltk_data]    |     /root/nltk_data...\n",
            "[nltk_data]    |   Unzipping taggers/averaged_perceptron_tagger.zip.\n",
            "[nltk_data]    | \n",
            "[nltk_data]  Done downloading collection popular\n"
          ]
        },
        {
          "output_type": "stream",
          "name": "stderr",
          "text": [
            "[nltk_data] Downloading package punkt to /root/nltk_data...\n",
            "[nltk_data]   Package punkt is already up-to-date!\n",
            "[nltk_data] Downloading package stopwords to /root/nltk_data...\n",
            "[nltk_data]   Package stopwords is already up-to-date!\n",
            "[nltk_data] Downloading package wordnet to /root/nltk_data...\n",
            "[nltk_data]   Package wordnet is already up-to-date!\n"
          ]
        },
        {
          "output_type": "stream",
          "name": "stdout",
          "text": [
            "Requirement already satisfied: imbalanced-learn in /usr/local/lib/python3.10/dist-packages (0.10.1)\n",
            "Requirement already satisfied: numpy>=1.17.3 in /usr/local/lib/python3.10/dist-packages (from imbalanced-learn) (1.22.4)\n",
            "Requirement already satisfied: scipy>=1.3.2 in /usr/local/lib/python3.10/dist-packages (from imbalanced-learn) (1.10.1)\n",
            "Requirement already satisfied: scikit-learn>=1.0.2 in /usr/local/lib/python3.10/dist-packages (from imbalanced-learn) (1.2.2)\n",
            "Requirement already satisfied: joblib>=1.1.1 in /usr/local/lib/python3.10/dist-packages (from imbalanced-learn) (1.3.1)\n",
            "Requirement already satisfied: threadpoolctl>=2.0.0 in /usr/local/lib/python3.10/dist-packages (from imbalanced-learn) (3.2.0)\n"
          ]
        }
      ]
    },
    {
      "cell_type": "markdown",
      "source": [
        "**Uploading Data**"
      ],
      "metadata": {
        "id": "Eddd5zxEsyVy"
      }
    },
    {
      "cell_type": "code",
      "source": [
        "from google.colab import files\n",
        "\n",
        "# Upload the zip file\n",
        "uploaded = files.upload()"
      ],
      "metadata": {
        "colab": {
          "base_uri": "https://localhost:8080/",
          "height": 90
        },
        "id": "nnBF-leVVghK",
        "outputId": "1b7a4548-d474-4f6f-e6cf-f35119eb896c"
      },
      "execution_count": null,
      "outputs": [
        {
          "output_type": "display_data",
          "data": {
            "text/plain": [
              "<IPython.core.display.HTML object>"
            ],
            "text/html": [
              "\n",
              "     <input type=\"file\" id=\"files-6a42372c-d512-4cdc-bacb-0e4727d9bafd\" name=\"files[]\" multiple disabled\n",
              "        style=\"border:none\" />\n",
              "     <output id=\"result-6a42372c-d512-4cdc-bacb-0e4727d9bafd\">\n",
              "      Upload widget is only available when the cell has been executed in the\n",
              "      current browser session. Please rerun this cell to enable.\n",
              "      </output>\n",
              "      <script>// Copyright 2017 Google LLC\n",
              "//\n",
              "// Licensed under the Apache License, Version 2.0 (the \"License\");\n",
              "// you may not use this file except in compliance with the License.\n",
              "// You may obtain a copy of the License at\n",
              "//\n",
              "//      http://www.apache.org/licenses/LICENSE-2.0\n",
              "//\n",
              "// Unless required by applicable law or agreed to in writing, software\n",
              "// distributed under the License is distributed on an \"AS IS\" BASIS,\n",
              "// WITHOUT WARRANTIES OR CONDITIONS OF ANY KIND, either express or implied.\n",
              "// See the License for the specific language governing permissions and\n",
              "// limitations under the License.\n",
              "\n",
              "/**\n",
              " * @fileoverview Helpers for google.colab Python module.\n",
              " */\n",
              "(function(scope) {\n",
              "function span(text, styleAttributes = {}) {\n",
              "  const element = document.createElement('span');\n",
              "  element.textContent = text;\n",
              "  for (const key of Object.keys(styleAttributes)) {\n",
              "    element.style[key] = styleAttributes[key];\n",
              "  }\n",
              "  return element;\n",
              "}\n",
              "\n",
              "// Max number of bytes which will be uploaded at a time.\n",
              "const MAX_PAYLOAD_SIZE = 100 * 1024;\n",
              "\n",
              "function _uploadFiles(inputId, outputId) {\n",
              "  const steps = uploadFilesStep(inputId, outputId);\n",
              "  const outputElement = document.getElementById(outputId);\n",
              "  // Cache steps on the outputElement to make it available for the next call\n",
              "  // to uploadFilesContinue from Python.\n",
              "  outputElement.steps = steps;\n",
              "\n",
              "  return _uploadFilesContinue(outputId);\n",
              "}\n",
              "\n",
              "// This is roughly an async generator (not supported in the browser yet),\n",
              "// where there are multiple asynchronous steps and the Python side is going\n",
              "// to poll for completion of each step.\n",
              "// This uses a Promise to block the python side on completion of each step,\n",
              "// then passes the result of the previous step as the input to the next step.\n",
              "function _uploadFilesContinue(outputId) {\n",
              "  const outputElement = document.getElementById(outputId);\n",
              "  const steps = outputElement.steps;\n",
              "\n",
              "  const next = steps.next(outputElement.lastPromiseValue);\n",
              "  return Promise.resolve(next.value.promise).then((value) => {\n",
              "    // Cache the last promise value to make it available to the next\n",
              "    // step of the generator.\n",
              "    outputElement.lastPromiseValue = value;\n",
              "    return next.value.response;\n",
              "  });\n",
              "}\n",
              "\n",
              "/**\n",
              " * Generator function which is called between each async step of the upload\n",
              " * process.\n",
              " * @param {string} inputId Element ID of the input file picker element.\n",
              " * @param {string} outputId Element ID of the output display.\n",
              " * @return {!Iterable<!Object>} Iterable of next steps.\n",
              " */\n",
              "function* uploadFilesStep(inputId, outputId) {\n",
              "  const inputElement = document.getElementById(inputId);\n",
              "  inputElement.disabled = false;\n",
              "\n",
              "  const outputElement = document.getElementById(outputId);\n",
              "  outputElement.innerHTML = '';\n",
              "\n",
              "  const pickedPromise = new Promise((resolve) => {\n",
              "    inputElement.addEventListener('change', (e) => {\n",
              "      resolve(e.target.files);\n",
              "    });\n",
              "  });\n",
              "\n",
              "  const cancel = document.createElement('button');\n",
              "  inputElement.parentElement.appendChild(cancel);\n",
              "  cancel.textContent = 'Cancel upload';\n",
              "  const cancelPromise = new Promise((resolve) => {\n",
              "    cancel.onclick = () => {\n",
              "      resolve(null);\n",
              "    };\n",
              "  });\n",
              "\n",
              "  // Wait for the user to pick the files.\n",
              "  const files = yield {\n",
              "    promise: Promise.race([pickedPromise, cancelPromise]),\n",
              "    response: {\n",
              "      action: 'starting',\n",
              "    }\n",
              "  };\n",
              "\n",
              "  cancel.remove();\n",
              "\n",
              "  // Disable the input element since further picks are not allowed.\n",
              "  inputElement.disabled = true;\n",
              "\n",
              "  if (!files) {\n",
              "    return {\n",
              "      response: {\n",
              "        action: 'complete',\n",
              "      }\n",
              "    };\n",
              "  }\n",
              "\n",
              "  for (const file of files) {\n",
              "    const li = document.createElement('li');\n",
              "    li.append(span(file.name, {fontWeight: 'bold'}));\n",
              "    li.append(span(\n",
              "        `(${file.type || 'n/a'}) - ${file.size} bytes, ` +\n",
              "        `last modified: ${\n",
              "            file.lastModifiedDate ? file.lastModifiedDate.toLocaleDateString() :\n",
              "                                    'n/a'} - `));\n",
              "    const percent = span('0% done');\n",
              "    li.appendChild(percent);\n",
              "\n",
              "    outputElement.appendChild(li);\n",
              "\n",
              "    const fileDataPromise = new Promise((resolve) => {\n",
              "      const reader = new FileReader();\n",
              "      reader.onload = (e) => {\n",
              "        resolve(e.target.result);\n",
              "      };\n",
              "      reader.readAsArrayBuffer(file);\n",
              "    });\n",
              "    // Wait for the data to be ready.\n",
              "    let fileData = yield {\n",
              "      promise: fileDataPromise,\n",
              "      response: {\n",
              "        action: 'continue',\n",
              "      }\n",
              "    };\n",
              "\n",
              "    // Use a chunked sending to avoid message size limits. See b/62115660.\n",
              "    let position = 0;\n",
              "    do {\n",
              "      const length = Math.min(fileData.byteLength - position, MAX_PAYLOAD_SIZE);\n",
              "      const chunk = new Uint8Array(fileData, position, length);\n",
              "      position += length;\n",
              "\n",
              "      const base64 = btoa(String.fromCharCode.apply(null, chunk));\n",
              "      yield {\n",
              "        response: {\n",
              "          action: 'append',\n",
              "          file: file.name,\n",
              "          data: base64,\n",
              "        },\n",
              "      };\n",
              "\n",
              "      let percentDone = fileData.byteLength === 0 ?\n",
              "          100 :\n",
              "          Math.round((position / fileData.byteLength) * 100);\n",
              "      percent.textContent = `${percentDone}% done`;\n",
              "\n",
              "    } while (position < fileData.byteLength);\n",
              "  }\n",
              "\n",
              "  // All done.\n",
              "  yield {\n",
              "    response: {\n",
              "      action: 'complete',\n",
              "    }\n",
              "  };\n",
              "}\n",
              "\n",
              "scope.google = scope.google || {};\n",
              "scope.google.colab = scope.google.colab || {};\n",
              "scope.google.colab._files = {\n",
              "  _uploadFiles,\n",
              "  _uploadFilesContinue,\n",
              "};\n",
              "})(self);\n",
              "</script> "
            ]
          },
          "metadata": {}
        },
        {
          "output_type": "stream",
          "name": "stdout",
          "text": [
            "Saving transcripts.zip to transcripts.zip\n"
          ]
        }
      ]
    },
    {
      "cell_type": "code",
      "source": [
        "import zipfile\n",
        "\n",
        "zip_file_path = '/content/transcripts.zip'  # Replace with the actual path to your zip file\n",
        "folder_to_extract = 'transcript'  # Replace with the name of the folder you want to extract\n",
        "\n",
        "with zipfile.ZipFile(zip_file_path, 'r') as zip_ref:\n",
        "    zip_ref.extractall(folder_to_extract)\n",
        "\n",
        "print(\"Folder extraction complete.\")\n"
      ],
      "metadata": {
        "colab": {
          "base_uri": "https://localhost:8080/"
        },
        "id": "G1o5gbhMVinB",
        "outputId": "5ff92caf-989a-4bc1-d8b0-9d2461d7d60b"
      },
      "execution_count": null,
      "outputs": [
        {
          "output_type": "stream",
          "name": "stdout",
          "text": [
            "Folder extraction complete.\n"
          ]
        }
      ]
    },
    {
      "cell_type": "code",
      "source": [
        "import os\n",
        "import re\n",
        "\n",
        "corpus_dir = '/content/transcript/transcripts'\n",
        "\n",
        "texts = []\n",
        "labels = []\n",
        "\n",
        "folder_names = [folder for folder in os.listdir(corpus_dir) if os.path.isdir(os.path.join(corpus_dir, folder))]\n",
        "folder_names.sort()\n",
        "\n",
        "for folder_name in folder_names:\n",
        "    folder_path = os.path.join(corpus_dir, folder_name)\n",
        "\n",
        "    # Get the list of text files in the folder\n",
        "    files = [file for file in os.listdir(folder_path) if file.endswith('.txt')]\n",
        "\n",
        "    if len(files) == 1:\n",
        "        # Process the single text file in the folder\n",
        "        file_path = os.path.join(folder_path, files[0])\n",
        "        with open(file_path, 'r') as f:\n",
        "            lines = f.readlines()\n",
        "\n",
        "            for line in lines:\n",
        "                line = line.strip()\n",
        "                if line:\n",
        "                    match = re.search(r\"['\\\"](.*?)\\[([\\d]+)\\]\", line)\n",
        "                    if match:\n",
        "                        sentence = match.group(1)\n",
        "                        label = match.group(2)\n",
        "\n",
        "                        sentence = re.sub(r'^\\d+\\.\\s+', '', sentence)\n",
        "                        sentence = re.sub(r'[^\\w\\s]', '', sentence)  # Remove symbols\n",
        "                        sentence = sentence.lower()\n",
        "\n",
        "                        texts.append(sentence)\n",
        "                        labels.append(int(label))\n",
        "\n",
        "    elif len(files) == 2:\n",
        "        # Process Channel_1 text file\n",
        "        file_path = os.path.join(folder_path, 'Channel_1.txt')\n",
        "        with open(file_path, 'r') as f:\n",
        "            lines = f.readlines()\n",
        "\n",
        "            for line in lines:\n",
        "                line = line.strip()\n",
        "                if line:\n",
        "                    match = re.search(r\"['\\\"](.*?)\\[([\\d]+)\\]\", line)\n",
        "                    if match:\n",
        "                        sentence = match.group(1)\n",
        "                        label = match.group(2)\n",
        "\n",
        "                        sentence = re.sub(r'^\\d+\\.\\s+', '', sentence)\n",
        "                        sentence = re.sub(r'[^\\w\\s]', '', sentence)  # Remove symbols\n",
        "                        sentence = sentence.lower()\n",
        "\n",
        "                        texts.append(sentence)\n",
        "                        labels.append(int(label))\n",
        "\n",
        "        # Process Channel_2 text file\n",
        "        file_path = os.path.join(folder_path, 'Channel_2.txt')\n",
        "        with open(file_path, 'r') as f:\n",
        "            lines = f.readlines()\n",
        "\n",
        "            for line in lines:\n",
        "                line = line.strip()\n",
        "                if line:\n",
        "                    match = re.search(r\"['\\\"](.*?)\\[([\\d]+)\\]\", line)\n",
        "                    if match:\n",
        "                        sentence = match.group(1)\n",
        "                        label = match.group(2)\n",
        "\n",
        "                        sentence = re.sub(r'^\\d+\\.\\s+', '', sentence)\n",
        "                        sentence = re.sub(r'[^\\w\\s]', '', sentence)  # Remove symbols\n",
        "                        sentence = sentence.lower()\n",
        "\n",
        "                        texts.append(sentence)\n",
        "                        labels.append(int(label))\n",
        "\n",
        "# Write the text and label data to a new file in the current directory\n",
        "output_file = 'dataset.txt'\n",
        "with open(output_file, 'w') as f:\n",
        "    for text, label in zip(texts, labels):\n",
        "        line = f'{label}\\t{text}\\n'\n",
        "        f.write(line)\n"
      ],
      "metadata": {
        "id": "mFSAtwsB5cZg"
      },
      "execution_count": null,
      "outputs": []
    },
    {
      "cell_type": "markdown",
      "source": [
        "**Preprocessing dataset**"
      ],
      "metadata": {
        "id": "xdWvTTn3s84c"
      }
    },
    {
      "cell_type": "code",
      "source": [
        "from textblob import TextBlob\n",
        "from nltk.corpus import stopwords\n",
        "from nltk.stem import SnowballStemmer, WordNetLemmatizer\n",
        "\n",
        "def process_text(input_file, output_file):\n",
        "    english_stopwords = set(stopwords.words('english'))\n",
        "    german_stopwords = set(stopwords.words('german'))\n",
        "    stemmer = SnowballStemmer(\"german\")\n",
        "    lemmatizer = WordNetLemmatizer()\n",
        "\n",
        "    with open(input_file, 'r') as file:\n",
        "        lines = file.readlines()\n",
        "\n",
        "    processed_lines = []\n",
        "    for line in lines:\n",
        "        label, text = line.split('\\t')\n",
        "\n",
        "        # Skip the line if the label is 4 or 1\n",
        "        if label in ['4', '1']:\n",
        "            continue\n",
        "\n",
        "        blob = TextBlob(text)\n",
        "\n",
        "        # Remove stopwords and perform stemming and lemmatization\n",
        "        words = [lemmatizer.lemmatize(stemmer.stem(word.lower())) for word in blob.words\n",
        "                 if word.lower() not in english_stopwords and word.lower() not in german_stopwords]\n",
        "\n",
        "        processed_text = ' '.join(words)\n",
        "\n",
        "        # Skip processing if line becomes blank\n",
        "        if not processed_text.strip():\n",
        "            continue\n",
        "\n",
        "        processed_lines.append(f\"{label}\\t{processed_text}\\n\")\n",
        "\n",
        "    with open(output_file, 'w') as file:\n",
        "        file.writelines(processed_lines)\n",
        "\n",
        "# Specify the paths to your input and output files\n",
        "input_file = '/content/dataset.txt'\n",
        "output_file = '/content/preprocessed_dataset.txt'\n",
        "\n",
        "# Call the function to process the text file\n",
        "process_text(input_file, output_file)\n"
      ],
      "metadata": {
        "id": "m4ECxmLhBteS"
      },
      "execution_count": null,
      "outputs": []
    },
    {
      "cell_type": "markdown",
      "source": [
        "**Label Distribution**"
      ],
      "metadata": {
        "id": "4vzsu4azeXWd"
      }
    },
    {
      "cell_type": "code",
      "source": [
        "import os\n",
        "import random\n",
        "import matplotlib.pyplot as plt\n",
        "import seaborn as sns\n",
        "\n",
        "# Step 1: Prepare the dataset\n",
        "sentences = []\n",
        "labels = []\n",
        "with open('/content/preprocessed_dataset.txt', 'r') as file:\n",
        "    for line in file:\n",
        "        line = line.strip()\n",
        "        if line:\n",
        "            parts = line.split('\\t')\n",
        "            if len(parts) == 2:\n",
        "                label, sentence = parts\n",
        "                sentences.append(sentence)\n",
        "                labels.append(int(label))\n",
        "\n",
        "split_ratio = 0.8  # 80% for training, 20% for testing\n",
        "split_index = int(len(sentences) * split_ratio)\n",
        "train_sentences = sentences[:split_index]\n",
        "train_labels = labels[:split_index]\n",
        "test_sentences = sentences[split_index:]\n",
        "test_labels = labels[split_index:]\n",
        "\n",
        "# Step 3: Create train and test folders\n",
        "train_folder = '/content/train_dataset'\n",
        "test_folder = '/content/test_dataset'\n",
        "\n",
        "os.makedirs(train_folder, exist_ok=True)\n",
        "os.makedirs(test_folder, exist_ok=True)\n",
        "\n",
        "# Save train dataset\n",
        "with open(os.path.join(train_folder, 'train_dataset.txt'), 'w') as file:\n",
        "    for sentence, label in zip(train_sentences, train_labels):\n",
        "        file.write(f'{label}\\t{sentence}\\n')\n",
        "\n",
        "# Save test dataset\n",
        "with open(os.path.join(test_folder, 'test_dataset.txt'), 'w') as file:\n",
        "    for sentence, label in zip(test_sentences, test_labels):\n",
        "        file.write(f'{label}\\t{sentence}\\n')\n",
        "\n",
        "# Step 4: Calculate label distributions\n",
        "train_label_counts = {label: train_labels.count(label) for label in set(train_labels)}\n",
        "test_label_counts = {label: test_labels.count(label) for label in set(test_labels)}\n",
        "\n",
        "# Step 5: Plot label distributions\n",
        "plt.figure(figsize=(10, 4))\n",
        "plt.subplot(1, 2, 1)\n",
        "sns.barplot(x=list(train_label_counts.keys()), y=list(train_label_counts.values()))\n",
        "plt.xlabel('Label')\n",
        "plt.ylabel('Count')\n",
        "plt.title('Train Label Distribution')\n",
        "plt.xticks(range(len(train_label_counts)), ['1', '2'])  # Set x-tick labels to '1' and '2'\n",
        "\n",
        "\n",
        "for index, value in enumerate(train_label_counts.values()):\n",
        "    plt.text(index, value, str(value), ha='center', va='bottom')\n",
        "\n",
        "\n",
        "plt.subplot(1, 2, 2)\n",
        "sns.barplot(x=list(test_label_counts.keys()), y=list(test_label_counts.values()))\n",
        "plt.xlabel('Label')\n",
        "plt.ylabel('Count')\n",
        "plt.title('Test Label Distribution')\n",
        "plt.xticks(range(len(test_label_counts)), ['1', '2'])  # Set x-tick labels to '1' and '2'\n",
        "\n",
        "\n",
        "for index, value in enumerate(test_label_counts.values()):\n",
        "    plt.text(index, value, str(value), ha='center', va='bottom')\n",
        "\n",
        "plt.tight_layout()\n",
        "plt.show()\n",
        "\n",
        "print(train_label_counts)\n",
        "print(test_label_counts)"
      ],
      "metadata": {
        "colab": {
          "base_uri": "https://localhost:8080/",
          "height": 299
        },
        "id": "HNzJDEF05lmN",
        "outputId": "67eb9a7c-330d-43e4-bb82-b822b58d8aaf"
      },
      "execution_count": null,
      "outputs": [
        {
          "output_type": "display_data",
          "data": {
            "text/plain": [
              "<Figure size 1000x400 with 2 Axes>"
            ],
            "image/png": "[encoded data removed]"
          },
          "metadata": {}
        },
        {
          "output_type": "stream",
          "name": "stdout",
          "text": [
            "{2: 2133, 3: 4580}\n",
            "{2: 692, 3: 987}\n"
          ]
        }
      ]
    },
    {
      "cell_type": "markdown",
      "source": [
        "**Word2vec**"
      ],
      "metadata": {
        "id": "3VR8nEVmejOj"
      }
    },
    {
      "cell_type": "code",
      "source": [
        "from gensim.models import Word2Vec\n",
        "\n",
        "# Read train dataset from file\n",
        "with open(\"/content/preprocessed_dataset.txt\", \"r\") as file:\n",
        "    train_dataset = file.readlines()\n",
        "\n",
        "# Extract only the text portion (excluding the labels)\n",
        "text_lines = [line.strip().split(\"\\t\")[1] for line in train_dataset]\n",
        "\n",
        "# Tokenize the sentences\n",
        "tokenized_sentences = [sentence.lower().split() for sentence in text_lines]\n",
        "\n",
        "# Train Word2Vec model on the tokenized sentences\n",
        "model = Word2Vec(tokenized_sentences, vector_size=1024, window=5, min_count=1, workers=4,sg=1)\n",
        "\n",
        "# Save the Word2Vec model for future use\n",
        "model.save(\"word2vec.model\")\n",
        "\n",
        "# Get the Word2Vec vocabulary size\n",
        "word_vocab_size = len(model.wv)\n",
        "\n",
        "print(\"Word2Vec Model Vocabulary Size:\", word_vocab_size)\n"
      ],
      "metadata": {
        "colab": {
          "base_uri": "https://localhost:8080/"
        },
        "outputId": "f496d666-633c-459d-cac1-5bce7c02a077",
        "id": "OE6wfv7ojmeu"
      },
      "execution_count": null,
      "outputs": [
        {
          "output_type": "stream",
          "name": "stdout",
          "text": [
            "Word2Vec Model Vocabulary Size: 4339\n"
          ]
        }
      ]
    },
    {
      "cell_type": "markdown",
      "source": [
        "**Importing libraries**"
      ],
      "metadata": {
        "id": "xOYwVHWIerSz"
      }
    },
    {
      "cell_type": "code",
      "source": [
        "import numpy as np\n",
        "from tensorflow.keras.preprocessing.text import Tokenizer\n",
        "from tensorflow.keras.preprocessing.sequence import pad_sequences\n",
        "from tensorflow.keras.models import Sequential\n",
        "from tensorflow.keras.layers import Embedding, LSTM, Dense\n",
        "from sklearn.metrics import classification_report\n",
        "from gensim.models import Word2Vec\n",
        "from tensorflow.keras.utils import to_categorical\n",
        "from sklearn.utils.class_weight import compute_class_weight\n",
        "from tensorflow.keras.regularizers import l2\n",
        "from tensorflow.keras.layers import Dropout"
      ],
      "metadata": {
        "id": "MtMVHVo4vH36"
      },
      "execution_count": null,
      "outputs": []
    },
    {
      "cell_type": "markdown",
      "source": [
        "**Logistric Regression Method**"
      ],
      "metadata": {
        "id": "heJGaA0Qt7CP"
      }
    },
    {
      "cell_type": "code",
      "source": [
        "from sklearn.linear_model import LogisticRegression\n",
        "\n",
        "# Load the pre-trained Word2Vec model\n",
        "word2vec_model = Word2Vec.load(\"word2vec.model\")\n",
        "\n",
        "# Create word embeddings for training data\n",
        "train_word_embeddings = []\n",
        "for _, text in train_data:\n",
        "    words = text.split()\n",
        "    embeddings = [word2vec_model.wv[word] for word in words if word in word2vec_model.wv]\n",
        "    if embeddings:\n",
        "        average_embedding = np.mean(embeddings, axis=0)\n",
        "        train_word_embeddings.append(average_embedding)\n",
        "train_word_embeddings = np.array(train_word_embeddings)\n",
        "\n",
        "# Create word embeddings for test data\n",
        "test_word_embeddings = []\n",
        "for _, text in test_data:\n",
        "    words = text.split()\n",
        "    embeddings = [word2vec_model.wv[word] for word in words if word in word2vec_model.wv]\n",
        "    if embeddings:\n",
        "        average_embedding = np.mean(embeddings, axis=0)\n",
        "        test_word_embeddings.append(average_embedding)\n",
        "test_word_embeddings = np.array(test_word_embeddings)\n",
        "\n",
        "# Create the logistic regression model\n",
        "logistic_model = LogisticRegression()\n",
        "\n",
        "# Train the model using word embeddings\n",
        "logistic_model.fit(train_word_embeddings, train_labels.argmax(axis=1))\n",
        "\n",
        "# Predict the test labels\n",
        "logistic_predictions = logistic_model.predict(test_word_embeddings)\n",
        "\n",
        "# Print classification report\n",
        "print(\"Logistic Regression Classification Report:\")\n",
        "print(classification_report(test_labels.argmax(axis=1), logistic_predictions))\n",
        "\n"
      ],
      "metadata": {
        "colab": {
          "base_uri": "https://localhost:8080/"
        },
        "id": "YtPofTDh903u",
        "outputId": "4d872a12-b204-49b7-f07d-d0e808b60005"
      },
      "execution_count": null,
      "outputs": [
        {
          "output_type": "stream",
          "name": "stdout",
          "text": [
            "Logistic Regression Classification Report:\n",
            "              precision    recall  f1-score   support\n",
            "\n",
            "           0       0.67      0.08      0.15       692\n",
            "           1       0.60      0.97      0.74       987\n",
            "\n",
            "    accuracy                           0.61      1679\n",
            "   macro avg       0.63      0.53      0.45      1679\n",
            "weighted avg       0.63      0.61      0.50      1679\n",
            "\n"
          ]
        }
      ]
    },
    {
      "cell_type": "markdown",
      "source": [
        "**SVM method**"
      ],
      "metadata": {
        "id": "Li-sxG2juAYz"
      }
    },
    {
      "cell_type": "code",
      "source": [
        "from sklearn.svm import SVC\n",
        "\n",
        "# Load the pre-trained Word2Vec model\n",
        "word2vec_model = Word2Vec.load(\"word2vec.model\")\n",
        "\n",
        "# Create word embeddings for training data\n",
        "train_word_embeddings = []\n",
        "for _, text in train_data:\n",
        "    words = text.split()\n",
        "    embeddings = [word2vec_model.wv[word] for word in words if word in word2vec_model.wv]\n",
        "    if embeddings:\n",
        "        average_embedding = np.mean(embeddings, axis=0)\n",
        "        train_word_embeddings.append(average_embedding)\n",
        "train_word_embeddings = np.array(train_word_embeddings)\n",
        "\n",
        "# Create word embeddings for test data\n",
        "test_word_embeddings = []\n",
        "for _, text in test_data:\n",
        "    words = text.split()\n",
        "    embeddings = [word2vec_model.wv[word] for word in words if word in word2vec_model.wv]\n",
        "    if embeddings:\n",
        "        average_embedding = np.mean(embeddings, axis=0)\n",
        "        test_word_embeddings.append(average_embedding)\n",
        "test_word_embeddings = np.array(test_word_embeddings)\n",
        "\n",
        "# Create the SVM model\n",
        "svm_model = SVC()\n",
        "\n",
        "# Train the model using word embeddings\n",
        "svm_model.fit(train_word_embeddings, train_labels.argmax(axis=1))\n",
        "\n",
        "# Predict the test labels\n",
        "svm_predictions = svm_model.predict(test_word_embeddings)\n",
        "\n",
        "# Print classification report\n",
        "print(\"SVM Classification Report:\")\n",
        "print(classification_report(test_labels.argmax(axis=1), svm_predictions))\n"
      ],
      "metadata": {
        "colab": {
          "base_uri": "https://localhost:8080/"
        },
        "id": "X8nVEsr3EOSM",
        "outputId": "a8fe6c09-4a79-4aab-a47a-37306e791272"
      },
      "execution_count": null,
      "outputs": [
        {
          "output_type": "stream",
          "name": "stdout",
          "text": [
            "SVM Classification Report:\n",
            "              precision    recall  f1-score   support\n",
            "\n",
            "           0       0.64      0.04      0.07       692\n",
            "           1       0.59      0.98      0.74       987\n",
            "\n",
            "    accuracy                           0.59      1679\n",
            "   macro avg       0.62      0.51      0.41      1679\n",
            "weighted avg       0.61      0.59      0.47      1679\n",
            "\n"
          ]
        }
      ]
    },
    {
      "cell_type": "markdown",
      "source": [
        "**LSTM using Categorical Crossentropy loss function**\n"
      ],
      "metadata": {
        "id": "LznD2gSXev5h"
      }
    },
    {
      "cell_type": "code",
      "source": [
        "# Load the pre-trained Word2Vec model\n",
        "word2vec_model = Word2Vec.load(\"word2vec.model\")\n",
        "\n",
        "# Read training data from file\n",
        "train_data = []\n",
        "with open(\"/content/train_dataset/train_dataset.txt\", \"r\") as file:\n",
        "    for line in file:\n",
        "        line = line.strip().split(\"\\t\")\n",
        "        label = int(line[0])\n",
        "        text = line[1]\n",
        "        train_data.append((label, text))\n",
        "\n",
        "# Create tokenizer and fit on training texts\n",
        "tokenizer = Tokenizer()\n",
        "tokenizer.fit_on_texts(text for _, text in train_data)\n",
        "\n",
        "# Convert training texts to sequences\n",
        "train_sequences = []\n",
        "train_labels = []\n",
        "for label, text in train_data:\n",
        "    if label in [2, 3]:  # Keep only labels 2 and 3\n",
        "        sequence = tokenizer.texts_to_sequences([text])[0]\n",
        "        train_sequences.append(sequence)\n",
        "        train_labels.append(label)\n",
        "\n",
        "# Pad training sequences to have equal length\n",
        "max_length = max(len(seq) for seq in train_sequences)\n",
        "padded_train_sequences = pad_sequences(train_sequences, maxlen=max_length)\n",
        "\n",
        "# Convert training labels to categorical\n",
        "train_labels = to_categorical(np.array(train_labels) - 2)  # Adjust labels to start from 0\n",
        "\n",
        "\n",
        "# Create the LSTM model\n",
        "vocab_size = len(tokenizer.word_index) + 1\n",
        "embedding_dim = word2vec_model.vector_size\n",
        "hidden_units = 64\n",
        "sentence_embedding_dim = 256\n",
        "num_classes = 2  # Number of classes for text classification\n",
        "\n",
        "embedding_matrix = np.zeros((vocab_size, embedding_dim))\n",
        "for word, i in tokenizer.word_index.items():\n",
        "    if word in word2vec_model.wv:\n",
        "        embedding_matrix[i] = word2vec_model.wv[word]\n",
        "\n",
        "model = Sequential()\n",
        "model.add(Embedding(input_dim=vocab_size, output_dim=embedding_dim, weights=[embedding_matrix], input_length=max_length, trainable=True))  # Set trainable=True\n",
        "model.add(LSTM(units=hidden_units))\n",
        "model.add(Dense(units=sentence_embedding_dim))\n",
        "model.add(Dense(units=num_classes, activation='softmax'))\n",
        "\n",
        "# Compile and train the model\n",
        "model.compile(loss='categorical_crossentropy', optimizer='adam', metrics=['accuracy'])\n",
        "model.fit(padded_train_sequences, train_labels, epochs=20, shuffle=False)\n",
        "\n",
        "# Read test data from file\n",
        "test_data = []\n",
        "with open(\"/content/test_dataset/test_dataset.txt\", \"r\") as file:\n",
        "    for line in file:\n",
        "        line = line.strip().split(\"\\t\")\n",
        "        label = int(line[0])\n",
        "        text = line[1]\n",
        "        test_data.append((label, text))\n",
        "\n",
        "# Convert test texts to sequences\n",
        "test_sequences = []\n",
        "test_labels = []\n",
        "for label, text in test_data:\n",
        "    if label in [2, 3]:  # Keep only labels 2 and 3\n",
        "        sequence = tokenizer.texts_to_sequences([text])[0]\n",
        "        test_sequences.append(sequence)\n",
        "        test_labels.append(label)\n",
        "\n",
        "# Pad test sequences to have equal length\n",
        "padded_test_sequences = pad_sequences(test_sequences, maxlen=max_length)\n",
        "\n",
        "# Convert test labels to categorical\n",
        "test_labels = to_categorical(np.array(test_labels) - 2)  # Adjust labels to start from 0\n",
        "\n",
        "# Predict the test labels\n",
        "predictions = model.predict(padded_test_sequences)\n",
        "predicted_labels = np.argmax(predictions, axis=1) + 2  # Adjust labels to start from 2\n",
        "\n",
        "# Print classification report\n",
        "print(classification_report(test_labels.argmax(axis=1) + 2, predicted_labels))"
      ],
      "metadata": {
        "colab": {
          "base_uri": "https://localhost:8080/"
        },
        "id": "nivGym19Cau0",
        "outputId": "cc4381f5-e6b7-43f9-ea46-b306cc50601d"
      },
      "execution_count": null,
      "outputs": [
        {
          "output_type": "stream",
          "name": "stdout",
          "text": [
            "Epoch 1/20\n",
            "210/210 [==============================] - 74s 338ms/step - loss: 0.6099 - accuracy: 0.6769\n",
            "Epoch 2/20\n",
            "210/210 [==============================] - 72s 345ms/step - loss: 0.4679 - accuracy: 0.7727\n",
            "Epoch 3/20\n",
            "210/210 [==============================] - 70s 335ms/step - loss: 0.3474 - accuracy: 0.8348\n",
            "Epoch 4/20\n",
            "210/210 [==============================] - 71s 338ms/step - loss: 0.2839 - accuracy: 0.8582\n",
            "Epoch 5/20\n",
            "210/210 [==============================] - 78s 374ms/step - loss: 0.2550 - accuracy: 0.8680\n",
            "Epoch 6/20\n",
            "210/210 [==============================] - 71s 339ms/step - loss: 0.2384 - accuracy: 0.8740\n",
            "Epoch 7/20\n",
            "210/210 [==============================] - 73s 347ms/step - loss: 0.2264 - accuracy: 0.8789\n",
            "Epoch 8/20\n",
            "210/210 [==============================] - 70s 335ms/step - loss: 0.2173 - accuracy: 0.8843\n",
            "Epoch 9/20\n",
            "210/210 [==============================] - 71s 340ms/step - loss: 0.2095 - accuracy: 0.8926\n",
            "Epoch 10/20\n",
            "210/210 [==============================] - 71s 338ms/step - loss: 0.2035 - accuracy: 0.8938\n",
            "Epoch 11/20\n",
            "210/210 [==============================] - 71s 336ms/step - loss: 0.1972 - accuracy: 0.8984\n",
            "Epoch 12/20\n",
            "210/210 [==============================] - 70s 330ms/step - loss: 0.1911 - accuracy: 0.9020\n",
            "Epoch 13/20\n",
            "210/210 [==============================] - 69s 331ms/step - loss: 0.1854 - accuracy: 0.9029\n",
            "Epoch 14/20\n",
            "210/210 [==============================] - 72s 341ms/step - loss: 0.1814 - accuracy: 0.9059\n",
            "Epoch 15/20\n",
            "210/210 [==============================] - 70s 332ms/step - loss: 0.1819 - accuracy: 0.9062\n",
            "Epoch 16/20\n",
            "210/210 [==============================] - 70s 334ms/step - loss: 0.1762 - accuracy: 0.9091\n",
            "Epoch 17/20\n",
            "210/210 [==============================] - 71s 338ms/step - loss: 0.1716 - accuracy: 0.9106\n",
            "Epoch 18/20\n",
            "210/210 [==============================] - 72s 345ms/step - loss: 0.1704 - accuracy: 0.9108\n",
            "Epoch 19/20\n",
            "210/210 [==============================] - 71s 340ms/step - loss: 0.1699 - accuracy: 0.9111\n",
            "Epoch 20/20\n",
            "210/210 [==============================] - 75s 356ms/step - loss: 0.1709 - accuracy: 0.9111\n",
            "53/53 [==============================] - 4s 66ms/step\n",
            "              precision    recall  f1-score   support\n",
            "\n",
            "           2       0.61      0.36      0.45       692\n",
            "           3       0.65      0.84      0.73       987\n",
            "\n",
            "    accuracy                           0.64      1679\n",
            "   macro avg       0.63      0.60      0.59      1679\n",
            "weighted avg       0.63      0.64      0.62      1679\n",
            "\n"
          ]
        }
      ]
    },
    {
      "cell_type": "markdown",
      "source": [
        "**LSTM Using cateogrical_entropy along with regularization**"
      ],
      "metadata": {
        "id": "PhZv6jmTe4IE"
      }
    },
    {
      "cell_type": "code",
      "source": [
        "# Load the pre-trained Word2Vec model\n",
        "word2vec_model = Word2Vec.load(\"word2vec.model\")\n",
        "\n",
        "# Read training data from file\n",
        "train_data = []\n",
        "with open(\"/content/train_dataset/train_dataset.txt\", \"r\") as file:\n",
        "    for line in file:\n",
        "        line = line.strip().split(\"\\t\")\n",
        "        label = int(line[0])\n",
        "        text = line[1]\n",
        "        train_data.append((label, text))\n",
        "\n",
        "# Create tokenizer and fit on training texts\n",
        "tokenizer = Tokenizer()\n",
        "tokenizer.fit_on_texts(text for _, text in train_data)\n",
        "\n",
        "# Convert training texts to sequences\n",
        "train_sequences = []\n",
        "train_labels = []\n",
        "for label, text in train_data:\n",
        "    if label in [2, 3]:  # Keep only labels 2 and 3\n",
        "        sequence = tokenizer.texts_to_sequences([text])[0]\n",
        "        train_sequences.append(sequence)\n",
        "        train_labels.append(label)\n",
        "\n",
        "# Pad training sequences to have equal length\n",
        "max_length = max(len(seq) for seq in train_sequences)\n",
        "padded_train_sequences = pad_sequences(train_sequences, maxlen=max_length)\n",
        "\n",
        "# Convert training labels to categorical\n",
        "train_labels = to_categorical(np.array(train_labels) - 2)  # Adjust labels to start from 0\n",
        "\n",
        "# Create the LSTM model\n",
        "vocab_size = len(tokenizer.word_index) + 1\n",
        "embedding_dim = word2vec_model.vector_size\n",
        "hidden_units = 64\n",
        "sentence_embedding_dim = 256\n",
        "num_classes = 2  # Number of classes for text classification\n",
        "\n",
        "embedding_matrix = np.zeros((vocab_size, embedding_dim))\n",
        "for word, i in tokenizer.word_index.items():\n",
        "    if word in word2vec_model.wv:\n",
        "        embedding_matrix[i] = word2vec_model.wv[word]\n",
        "\n",
        "# Create the LSTM model\n",
        "model = Sequential()\n",
        "model.add(Embedding(input_dim=vocab_size, output_dim=embedding_dim, weights=[embedding_matrix], input_length=max_length, trainable=True))\n",
        "model.add(LSTM(units=hidden_units, kernel_regularizer=l2(0.01), recurrent_regularizer=l2(0.01), bias_regularizer=l2(0.01)))  # Add kernel_regularizer, recurrent_regularizer, and bias_regularizer\n",
        "model.add(Dense(units=sentence_embedding_dim, kernel_regularizer=l2(0.01), bias_regularizer=l2(0.01)))  # Add kernel_regularizer and bias_regularizer\n",
        "model.add(Dense(units=num_classes, activation='softmax'))\n",
        "\n",
        "# Add dropout layers\n",
        "model.add(Dropout(0.2))  # Add dropout after LSTM layer\n",
        "model.add(Dropout(0.2))  # Add dropout after dense layer\n",
        "\n",
        "# Compile and train the model\n",
        "model.compile(loss='categorical_crossentropy', optimizer='adam', metrics=['accuracy'])\n",
        "model.fit(padded_train_sequences, train_labels, epochs=20, shuffle=False)\n",
        "\n",
        "# Read test data from file\n",
        "test_data = []\n",
        "with open(\"/content/test_dataset/test_dataset.txt\", \"r\") as file:\n",
        "    for line in file:\n",
        "        line = line.strip().split(\"\\t\")\n",
        "        label = int(line[0])\n",
        "        text = line[1]\n",
        "        test_data.append((label, text))\n",
        "\n",
        "# Convert test texts to sequences\n",
        "test_sequences = []\n",
        "test_labels = []\n",
        "for label, text in test_data:\n",
        "    if label in [2, 3]:  # Keep only labels 2 and 3\n",
        "        sequence = tokenizer.texts_to_sequences([text])[0]\n",
        "        test_sequences.append(sequence)\n",
        "        test_labels.append(label)\n",
        "\n",
        "# Pad test sequences to have equal length\n",
        "padded_test_sequences = pad_sequences(test_sequences, maxlen=max_length)\n",
        "\n",
        "# Convert test labels to categorical\n",
        "test_labels = to_categorical(np.array(test_labels) - 2)  # Adjust labels to start from 0\n",
        "\n",
        "# Predict the test labels\n",
        "predictions = model.predict(padded_test_sequences)\n",
        "predicted_labels = np.argmax(predictions, axis=1) + 2  # Adjust labels to start from 2\n",
        "\n",
        "# Print classification report\n",
        "print(classification_report(test_labels.argmax(axis=1) + 2, predicted_labels))\n"
      ],
      "metadata": {
        "colab": {
          "base_uri": "https://localhost:8080/"
        },
        "id": "rdB2aWCIEARW",
        "outputId": "8d43bda3-e5b1-4ece-9ffb-382c3181ef1d"
      },
      "execution_count": null,
      "outputs": [
        {
          "output_type": "stream",
          "name": "stdout",
          "text": [
            "Epoch 1/20\n",
            "210/210 [==============================] - 73s 327ms/step - loss: nan - accuracy: 0.5509\n",
            "Epoch 2/20\n",
            "210/210 [==============================] - 69s 326ms/step - loss: nan - accuracy: 0.5528\n",
            "Epoch 3/20\n",
            "210/210 [==============================] - 68s 323ms/step - loss: nan - accuracy: 0.5699\n",
            "Epoch 4/20\n",
            "210/210 [==============================] - 69s 328ms/step - loss: nan - accuracy: 0.5827\n",
            "Epoch 5/20\n",
            "210/210 [==============================] - 66s 315ms/step - loss: nan - accuracy: 0.5963\n",
            "Epoch 6/20\n",
            "210/210 [==============================] - 64s 307ms/step - loss: nan - accuracy: 0.6079\n",
            "Epoch 7/20\n",
            "210/210 [==============================] - 66s 317ms/step - loss: nan - accuracy: 0.6018\n",
            "Epoch 8/20\n",
            "210/210 [==============================] - 67s 321ms/step - loss: nan - accuracy: 0.6036\n",
            "Epoch 9/20\n",
            "210/210 [==============================] - 68s 321ms/step - loss: nan - accuracy: 0.6222\n",
            "Epoch 10/20\n",
            "210/210 [==============================] - 67s 319ms/step - loss: nan - accuracy: 0.6125\n",
            "Epoch 11/20\n",
            "210/210 [==============================] - 67s 320ms/step - loss: nan - accuracy: 0.6303\n",
            "Epoch 12/20\n",
            "210/210 [==============================] - 69s 327ms/step - loss: nan - accuracy: 0.6145\n",
            "Epoch 13/20\n",
            "210/210 [==============================] - 68s 322ms/step - loss: nan - accuracy: 0.6255\n",
            "Epoch 14/20\n",
            "210/210 [==============================] - 68s 323ms/step - loss: nan - accuracy: 0.6261\n",
            "Epoch 15/20\n",
            "210/210 [==============================] - 70s 331ms/step - loss: nan - accuracy: 0.6248\n",
            "Epoch 16/20\n",
            "210/210 [==============================] - 68s 322ms/step - loss: nan - accuracy: 0.6265\n",
            "Epoch 17/20\n",
            "210/210 [==============================] - 67s 318ms/step - loss: nan - accuracy: 0.6222\n",
            "Epoch 18/20\n",
            "210/210 [==============================] - 68s 326ms/step - loss: nan - accuracy: 0.6282\n",
            "Epoch 19/20\n",
            "210/210 [==============================] - 67s 318ms/step - loss: nan - accuracy: 0.6270\n",
            "Epoch 20/20\n",
            "210/210 [==============================] - 67s 317ms/step - loss: nan - accuracy: 0.6364\n",
            "53/53 [==============================] - 4s 62ms/step\n",
            "              precision    recall  f1-score   support\n",
            "\n",
            "           2       0.60      0.33      0.43       692\n",
            "           3       0.64      0.85      0.73       987\n",
            "\n",
            "    accuracy                           0.63      1679\n",
            "   macro avg       0.62      0.59      0.58      1679\n",
            "weighted avg       0.63      0.63      0.61      1679\n",
            "\n"
          ]
        }
      ]
    },
    {
      "cell_type": "markdown",
      "source": [
        "**Confusion Matrix**"
      ],
      "metadata": {
        "id": "CSlKsB6Mtn5e"
      }
    },
    {
      "cell_type": "code",
      "source": [
        "import seaborn as sns\n",
        "\n",
        "# Plot the confusion matrix\n",
        "plt.figure(figsize=(8, 6))\n",
        "sns.heatmap(cm, annot=True, fmt=\"d\", cmap=\"Blues\", cbar=False)\n",
        "plt.title(\"Confusion Matrix\")\n",
        "plt.xlabel(\"Predicted Class\")\n",
        "plt.ylabel(\"Actual Class\")\n",
        "plt.show()\n"
      ],
      "metadata": {
        "colab": {
          "base_uri": "https://localhost:8080/",
          "height": 564
        },
        "id": "J4tT6nt8FPfp",
        "outputId": "d7b7cceb-9231-4ab2-bbb3-956d368cf547"
      },
      "execution_count": null,
      "outputs": [
        {
          "output_type": "display_data",
          "data": {
            "text/plain": [
              "<Figure size 800x600 with 1 Axes>"
            ],
            "image/png": "[encoded data removed]"
          },
          "metadata": {}
        }
      ]
    },
    {
      "cell_type": "markdown",
      "source": [
        "**LSTM using Binary entropy Cross function**"
      ],
      "metadata": {
        "id": "BGgeBOw2fdTF"
      }
    },
    {
      "cell_type": "code",
      "source": [
        "import matplotlib.pyplot as plt\n",
        "from imblearn.over_sampling import SMOTE\n",
        "from sklearn.metrics import accuracy_score\n",
        "\n",
        "# Load the pre-trained Word2Vec model\n",
        "word2vec_model = Word2Vec.load(\"word2vec.model\")\n",
        "\n",
        "# Read training data from file\n",
        "train_data = []\n",
        "with open(\"/content/train_dataset/train_dataset.txt\", \"r\") as file:\n",
        "    for line in file:\n",
        "        line = line.strip().split(\"\\t\")\n",
        "        label = int(line[0])\n",
        "        text = line[1]\n",
        "        train_data.append((label, text))\n",
        "\n",
        "# Create tokenizer and fit on training texts\n",
        "tokenizer = Tokenizer()\n",
        "tokenizer.fit_on_texts(text for _, text in train_data)\n",
        "\n",
        "# Convert training texts to sequences\n",
        "train_sequences = []\n",
        "train_labels = []\n",
        "for label, text in train_data:\n",
        "    if label in [2, 3]:  # Keep only labels 2 and 3\n",
        "        sequence = tokenizer.texts_to_sequences([text])[0]\n",
        "        train_sequences.append(sequence)\n",
        "        train_labels.append(label)\n",
        "\n",
        "# Pad training sequences to have equal length\n",
        "max_length = max(len(seq) for seq in train_sequences)\n",
        "padded_train_sequences = pad_sequences(train_sequences, maxlen=max_length)\n",
        "\n",
        "# Convert training labels to binary format\n",
        "train_labels = np.array(train_labels)\n",
        "train_labels = np.where(train_labels == 2, 0, 1)  # Convert label 2 to 0 and label 3 to 1\n",
        "\n",
        "# Apply SMOTE for oversampling the minority class (label 2)\n",
        "smote = SMOTE(sampling_strategy={0: len(train_labels[train_labels == 1])}, random_state=42)\n",
        "padded_train_sequences_smote, train_labels_smote = smote.fit_resample(padded_train_sequences, train_labels)\n",
        "\n",
        "# Create the LSTM model\n",
        "vocab_size = len(tokenizer.word_index) + 1\n",
        "embedding_dim = word2vec_model.vector_size\n",
        "hidden_units = 64\n",
        "sentence_embedding_dim = 256\n",
        "\n",
        "embedding_matrix = np.zeros((vocab_size, embedding_dim))\n",
        "for word, i in tokenizer.word_index.items():\n",
        "    if word in word2vec_model.wv:\n",
        "        embedding_matrix[i] = word2vec_model.wv[word]\n",
        "\n",
        "# Create the LSTM model\n",
        "model = Sequential()\n",
        "model.add(Embedding(input_dim=vocab_size, output_dim=embedding_dim, weights=[embedding_matrix], input_length=max_length, trainable=True))\n",
        "model.add(LSTM(units=hidden_units,dropout=0.2,recurrent_dropout=0.2))  # Add regularization\n",
        "model.add(Dense(units=sentence_embedding_dim, kernel_regularizer='l2', bias_regularizer='l2'))  # Add regularization\n",
        "model.add(Dropout(0.2))  # Add dropout after LSTM layer\n",
        "model.add(Dense(units=1, activation='sigmoid'))\n",
        "\n",
        "# Compile the model\n",
        "model.compile(loss='binary_crossentropy', optimizer='adam', metrics=['accuracy'])\n",
        "\n",
        "# Split data into training and validation sets\n",
        "validation_split = 0.2\n",
        "num_samples = len(padded_train_sequences)\n",
        "num_validation_samples = int(validation_split * num_samples)\n",
        "\n",
        "x_train = padded_train_sequences[:-num_validation_samples]\n",
        "y_train = train_labels[:-num_validation_samples]\n",
        "x_val = padded_train_sequences[-num_validation_samples:]\n",
        "y_val = train_labels[-num_validation_samples:]\n",
        "\n",
        "# Train the model and record history\n",
        "history = model.fit(x_train, y_train, validation_data=(x_val, y_val), epochs=20, shuffle=False)\n",
        "\n",
        "# Read test data from file\n",
        "test_data = []\n",
        "with open(\"/content/test_dataset/test_dataset.txt\", \"r\") as file:\n",
        "    for line in file:\n",
        "        line = line.strip().split(\"\\t\")\n",
        "        label = int(line[0])\n",
        "        text = line[1]\n",
        "        test_data.append((label, text))\n",
        "\n",
        "# Convert test texts to sequences\n",
        "test_sequences = []\n",
        "test_labels = []\n",
        "for label, text in test_data:\n",
        "    if label in [2, 3]:  # Keep only labels 2 and 3\n",
        "        sequence = tokenizer.texts_to_sequences([text])[0]\n",
        "        test_sequences.append(sequence)\n",
        "        test_labels.append(label)\n",
        "\n",
        "# Pad test sequences to have equal length\n",
        "padded_test_sequences = pad_sequences(test_sequences, maxlen=max_length)\n",
        "\n",
        "# Convert test labels to binary format\n",
        "test_labels = np.array(test_labels)\n",
        "test_labels = np.where(test_labels == 2, 0, 1)  # Convert label 2 to 0 and label 3 to 1\n",
        "\n",
        "# Predict the test labels\n",
        "predictions = model.predict(padded_test_sequences)\n",
        "predicted_labels = np.where(predictions >= 0.5, 1, 0)  # Convert probabilities to binary predictions\n",
        "\n",
        "# Calculate test accuracy\n",
        "test_accuracy = accuracy_score(test_labels, predicted_labels)\n",
        "print(\"Test Accuracy:\", test_accuracy)\n",
        "\n",
        "# Print classification report\n",
        "print(classification_report(test_labels, predicted_labels))\n",
        "\n",
        "# Plotting train and validation accuracy\n",
        "train_accuracy = history.history['accuracy']\n",
        "val_accuracy = history.history['val_accuracy']\n",
        "epochs = range(1, len(train_accuracy) + 1)\n",
        "\n",
        "\n",
        "plt.plot(epochs, train_accuracy, 'r', label='Train Accuracy')\n",
        "plt.plot(epochs, val_accuracy, 'b', label='Validation Accuracy')\n",
        "plt.axhline(test_accuracy, color='g', linestyle='--', label='Test Accuracy')  # Add line for test accuracy\n",
        "plt.title('Training, Validation, and Test Accuracy')\n",
        "plt.xlabel('Epochs')\n",
        "plt.ylabel('Accuracy')\n",
        "plt.legend()\n",
        "plt.show()\n",
        "\n"
      ],
      "metadata": {
        "colab": {
          "base_uri": "https://localhost:8080/",
          "height": 1000
        },
        "id": "VsEJnuVcaboM",
        "outputId": "41e09aad-ab65-41dd-c966-03a3c2a3061a"
      },
      "execution_count": null,
      "outputs": [
        {
          "output_type": "stream",
          "name": "stdout",
          "text": [
            "Epoch 1/20\n",
            "168/168 [==============================] - 152s 878ms/step - loss: 1.0159 - accuracy: 0.6829 - val_loss: 0.7113 - val_accuracy: 0.6841\n",
            "Epoch 2/20\n",
            "168/168 [==============================] - 144s 857ms/step - loss: 0.5674 - accuracy: 0.7377 - val_loss: 0.5737 - val_accuracy: 0.7079\n",
            "Epoch 3/20\n",
            "168/168 [==============================] - 142s 847ms/step - loss: 0.4111 - accuracy: 0.8187 - val_loss: 0.6027 - val_accuracy: 0.7288\n",
            "Epoch 4/20\n",
            "168/168 [==============================] - 145s 863ms/step - loss: 0.3185 - accuracy: 0.8566 - val_loss: 0.6445 - val_accuracy: 0.7295\n",
            "Epoch 5/20\n",
            "168/168 [==============================] - 144s 856ms/step - loss: 0.2733 - accuracy: 0.8756 - val_loss: 0.6879 - val_accuracy: 0.7288\n",
            "Epoch 6/20\n",
            "168/168 [==============================] - 142s 845ms/step - loss: 0.2530 - accuracy: 0.8808 - val_loss: 0.7318 - val_accuracy: 0.7295\n",
            "Epoch 7/20\n",
            "168/168 [==============================] - 144s 856ms/step - loss: 0.2395 - accuracy: 0.8820 - val_loss: 0.7865 - val_accuracy: 0.7280\n",
            "Epoch 8/20\n",
            "168/168 [==============================] - 143s 854ms/step - loss: 0.2272 - accuracy: 0.8868 - val_loss: 0.8318 - val_accuracy: 0.7325\n",
            "Epoch 9/20\n",
            "168/168 [==============================] - 143s 851ms/step - loss: 0.2194 - accuracy: 0.8862 - val_loss: 0.8608 - val_accuracy: 0.7317\n",
            "Epoch 10/20\n",
            "168/168 [==============================] - 146s 869ms/step - loss: 0.2128 - accuracy: 0.8903 - val_loss: 0.9118 - val_accuracy: 0.7288\n",
            "Epoch 11/20\n",
            "168/168 [==============================] - 141s 841ms/step - loss: 0.2080 - accuracy: 0.8924 - val_loss: 0.9600 - val_accuracy: 0.7347\n",
            "Epoch 12/20\n",
            "168/168 [==============================] - 145s 863ms/step - loss: 0.2029 - accuracy: 0.8976 - val_loss: 0.9766 - val_accuracy: 0.7317\n",
            "Epoch 13/20\n",
            "168/168 [==============================] - 143s 854ms/step - loss: 0.1984 - accuracy: 0.9002 - val_loss: 0.9909 - val_accuracy: 0.7392\n",
            "Epoch 14/20\n",
            "168/168 [==============================] - 141s 837ms/step - loss: 0.1963 - accuracy: 0.9050 - val_loss: 1.0265 - val_accuracy: 0.7332\n",
            "Epoch 15/20\n",
            "168/168 [==============================] - 143s 851ms/step - loss: 0.1992 - accuracy: 0.9013 - val_loss: 1.0490 - val_accuracy: 0.7347\n",
            "Epoch 16/20\n",
            "168/168 [==============================] - 142s 842ms/step - loss: 0.1945 - accuracy: 0.9052 - val_loss: 1.0256 - val_accuracy: 0.7317\n",
            "Epoch 17/20\n",
            "168/168 [==============================] - 142s 845ms/step - loss: 0.1887 - accuracy: 0.9056 - val_loss: 1.0163 - val_accuracy: 0.7303\n",
            "Epoch 18/20\n",
            "168/168 [==============================] - 143s 852ms/step - loss: 0.1862 - accuracy: 0.9075 - val_loss: 1.0303 - val_accuracy: 0.7303\n",
            "Epoch 19/20\n",
            "168/168 [==============================] - 143s 854ms/step - loss: 0.1812 - accuracy: 0.9103 - val_loss: 1.0133 - val_accuracy: 0.7303\n",
            "Epoch 20/20\n",
            "168/168 [==============================] - 141s 838ms/step - loss: 0.1789 - accuracy: 0.9117 - val_loss: 1.0392 - val_accuracy: 0.7317\n",
            "53/53 [==============================] - 6s 114ms/step\n",
            "Test Accuracy: 0.646813579511614\n",
            "              precision    recall  f1-score   support\n",
            "\n",
            "           0       0.63      0.35      0.45       692\n",
            "           1       0.65      0.86      0.74       987\n",
            "\n",
            "    accuracy                           0.65      1679\n",
            "   macro avg       0.64      0.60      0.59      1679\n",
            "weighted avg       0.64      0.65      0.62      1679\n",
            "\n"
          ]
        },
        {
          "output_type": "display_data",
          "data": {
            "text/plain": [
              "<Figure size 640x480 with 1 Axes>"
            ],
            "image/png": "[encoded data removed]"
          },
          "metadata": {}
        }
      ]
    }
  ]
}